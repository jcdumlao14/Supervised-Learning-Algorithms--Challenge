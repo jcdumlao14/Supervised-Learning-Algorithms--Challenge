{
  "nbformat": 4,
  "nbformat_minor": 0,
  "metadata": {
    "colab": {
      "provenance": [],
      "collapsed_sections": [],
      "authorship_tag": "ABX9TyN80XcAHXaJdcHzcmo3qC53",
      "include_colab_link": true
    },
    "kernelspec": {
      "name": "python3",
      "display_name": "Python 3"
    },
    "language_info": {
      "name": "python"
    }
  },
  "cells": [
    {
      "cell_type": "markdown",
      "metadata": {
        "id": "view-in-github",
        "colab_type": "text"
      },
      "source": [
        "<a href=\"https://colab.research.google.com/github/jcdumlao14/Supervised-Learning-Algorithms--Challenge/blob/main/5_Challenge_NaiveBayesClassifier.ipynb\" target=\"_parent\"><img src=\"https://colab.research.google.com/assets/colab-badge.svg\" alt=\"Open In Colab\"/></a>"
      ]
    },
    {
      "cell_type": "markdown",
      "source": [
        "# **Challenge - Naive Bayes Classifier**\n",
        "\n",
        "##Credit Risk\n",
        "\n",
        "###Predict if a loan application should be rejected or approved"
      ],
      "metadata": {
        "id": "HTy55vNGHB9p"
      }
    },
    {
      "cell_type": "markdown",
      "source": [
        "# **Context**\n",
        "\n",
        "Credit risks refer to the risks of loss on a debt that occurs when the borrower fails to repay the principal and related interest amounts of a loan back to the lender on due dates.\n",
        "\n",
        "When a bank receives a loan application, based on the applicant’s profile the bank has to make a decision for its approval or rejection. There are two types of risks associated with this decision:\n",
        "\n",
        "* If the applicant has good credit risk, i.e. is likely to repay the loan, then rejecting the loan results in a loss to the bank\n",
        "\n",
        "* If the applicant has bad credit risk, i.e. is unlikely to repay the loan, then approving the loan results in a loss to the bank\n",
        "\n",
        "It may be assumed that the second risk is a greater risk, as the bank (or any other institution lending the money to an untrustworthy party) had a higher chance of not being paid back the borrowed amount.\n",
        "\n",
        "So it's on the part of the bank or other lending authority to evaluate the risks associated with lending money to a customer."
      ],
      "metadata": {
        "id": "_O-jfVUZHSy6"
      }
    },
    {
      "cell_type": "markdown",
      "source": [
        "# **Problem Statement**\n",
        "\n",
        "Imagine a bank in your locality. The bank has realized that applying data science methodologies can help them focus their resources efficiently, make smarter decisions on credit risk calculations, and improve performance.\n",
        "\n",
        "Earlier they used to check the credit risk of the loan applicants manually by analyzing their bank-related data, which used to take months of time. But this time they want a smart data scientist who can automate this process."
      ],
      "metadata": {
        "id": "-X0V69dxHgKa"
      }
    },
    {
      "cell_type": "markdown",
      "source": [
        "# **Objective**\n",
        "\n",
        "You are required to build a machine learning model that helps you predict the credit risk of the loan applicants.\n",
        "\n"
      ],
      "metadata": {
        "id": "dH7kSVMpHq7z"
      }
    },
    {
      "cell_type": "markdown",
      "source": [
        "Evaluation Criteria Submissions are evaluated using the Accuracy Score.\n",
        "\n",
        "![image.png](data:image/png;base64,iVBORw0KGgoAAAANSUhEUgAAAwgAAACtCAIAAACbXs+AAAAMYmlDQ1BJQ0MgUHJvZmlsZQAASImVlwdYU8kWgOeWVBJaIAJSQm+iSA0gJYQWQUCqICohCSSUGBKCiB1dVsG1iyhWdFVE0dUVkLUgYndR7K5lsaCysi4WbKi8CQnouq98b/jmzp8zZ86cc5i5dwYAnQ6+TJaL6gKQJy2Qx4UHsyakpLJIjwEB6MM/A+DDFyhknNjYKADLYPv38uY6QFTtFReVrX/2/9eiLxQpBAAgaZAzhApBHuRmAPASgUxeAAAxBMqtpxXIVCyGbCCHDkKeqeIsNS9TcYaatw3oJMRxITcCQKbx+fIsALRboZxVKMiCdrQfQXaVCiVSAHQMIAcIxHwh5ATII/Lypqp4LmQHqC+DvBMyO+Mrm1l/s58xZJ/PzxpidVwDhRwiUchy+dP/z9T875KXqxycww5WmlgeEaeKH+bwZs7USBXTIHdLM6JjVLmG/E4iVOcdAJQqVkYkqvVRU4GCC/MHmJBdhfyQSMimkMOkudFRGnlGpiSMBxmuFrRIUsBL0IxdKFKExmtsrpdPjYsZ5Ew5l6MZW8eXD8yr0m9V5iRyNPZvikW8Qfuvi8UJyZCpAGDUQklSNGRtyAaKnPhItQ5mVSzmRg/qyJVxKv9tILNF0vBgtX0sLVMeFqfRl+UpBuPFSsUSXrSGKwvECRHq/GC7BPwB/40g14uknMRBOyLFhKjBWISikFB17FibSJqoiRe7JysIjtOM7ZHlxmr0cbIoN1wlt4JsoiiM14zFxxTAxam2j0fJCmIT1H7i6dn8sbFqf/BCEAW4IASwgBLWDDAVZANJW3dDN/yl7gkDfCAHWUAEXDSSwRHJAz1S+IwHxeBPSCKgGBoXPNArAoVQ/mlIqn66gMyB3sKBETngMeQ8EAly4W/lwCjp0GxJ4BGUSP4xuwD6mgurqu+fMg6URGkkykG7LJ1BTWIoMYQYQQwjOuImeADuh0fBZxCsbjgb9xn09os+4TGhnfCAcI3QQbg1RVIi/8aXcaAD2g/TRJzxdcS4HbTpiQfj/tA6tIwzcRPggnvAeTh4IJzZE0q5Gr9VsbP+TZxDEXyVc40exZWCUoZRgigO347UdtL2HLKiyujX+VH7mjGUVe5Qz7fzc7/KsxC2kd9qYguxA9hp7Dh2FjuMNQAWdgxrxC5gR1Q8tIYeDayhwdniBvzJgXYk/5iPr5lTlUmFa61rl+tHTR8oEBUVqDYYd6psulySJS5gceBXQMTiSQUjR7DcXN3cAFB9U9SvqVfMgW8Fwjz3RZbfDIBPGRRmfZHxrQE49BgAxpsvMuuXcHvAd/2RSwKlvFAtw1UPAnwb6MAdZQzMgTVwgBG5AS/gB4JAKBgLYkACSAGTYZ7FcD3LwTQwE8wDpaAcLAOrwTqwCWwFO8EesB80gMPgODgFzoNL4Bq4DddPJ3gGesAb0IcgCAmhIwzEGLFAbBFnxA1hIwFIKBKFxCEpSDqShUgRJTITmY+UIyuQdcgWpAb5CTmEHEfOIu3ILeQ+0oW8RD6gGEpDDVAz1A4dhbJRDhqJJqCT0Cw0Hy1GF6BL0Eq0Gt2N1qPH0fPoNbQDfYb2YgDTwpiYJeaCsTEuFoOlYpmYHJuNlWEVWDVWhzXB//QVrAPrxt7jRJyBs3AXuIYj8ERcgOfjs/HF+Dp8J16Pt+JX8Pt4D/6ZQCeYEpwJvgQeYQIhizCNUEqoIGwnHCSchLupk/CGSCQyifZEb7gbU4jZxBnExcQNxL3EZmI78SGxl0QiGZOcSf6kGBKfVEAqJa0l7SYdI10mdZLekbXIFmQ3chg5lSwll5AryLvIR8mXyU/IfRRdii3FlxJDEVKmU5ZStlGaKBcpnZQ+qh7VnupPTaBmU+dRK6l11JPUO9RXWlpaVlo+WuO1JFpztSq19mmd0bqv9Z6mT3OicWlpNCVtCW0HrZl2i/aKTqfb0YPoqfQC+hJ6Df0E/R79nTZDe6Q2T1uoPUe7Srte+7L2cx2Kjq0OR2eyTrFOhc4BnYs63boUXTtdri5fd7Zule4h3Ru6vXoMvdF6MXp5eov1dumd1XuqT9K30w/VF+ov0N+qf0L/IQNjWDO4DAFjPmMb4ySj04BoYG/AM8g2KDfYY9Bm0GOob+hhmGRYZFhleMSwg4kx7Zg8Zi5zKXM/8zrzwzCzYZxhomGLhtUNuzzsrdFwoyAjkVGZ0V6ja0YfjFnGocY5xsuNG4zvmuAmTibjTaaZbDQ5adI93GC433DB8LLh+4f/ZoqaOpnGmc4w3Wp6wbTXzNws3ExmttbshFm3OdM8yDzbfJX5UfMuC4ZFgIXEYpXFMYs/WIYsDiuXVclqZfVYmlpGWCott1i2WfZZ2VslWpVY7bW6a021ZltnWq+ybrHusbGwGWcz06bW5jdbii3bVmy7xva07Vs7e7tku+/tGuye2hvZ8+yL7Wvt7zjQHQId8h2qHa46Eh3ZjjmOGxwvOaFOnk5ipyqni86os5ezxHmDc/sIwgifEdIR1SNuuNBcOC6FLrUu90cyR0aNLBnZMPL5KJtRqaOWjzo96rOrp2uu6zbX26P1R48dXTK6afRLNyc3gVuV21V3unuY+xz3RvcXHs4eIo+NHjc9GZ7jPL/3bPH85OXtJfeq8+rytvFO917vfYNtwI5lL2af8SH4BPvM8Tns897Xy7fAd7/vX34ufjl+u/yejrEfIxqzbcxDfyt/vv8W/44AVkB6wOaAjkDLQH5gdeCDIOsgYdD2oCccR042ZzfnebBrsDz4YPBbri93Frc5BAsJDykLaQvVD00MXRd6L8wqLCusNqwn3DN8RnhzBCEiMmJ5xA2eGU/Aq+H1jPUeO2tsayQtMj5yXeSDKKcoeVTTOHTc2HErx92Jto2WRjfEgBhezMqYu7H2sfmxv4wnjo8dXzX+cdzouJlxp+MZ8VPid8W/SQhOWJpwO9EhUZnYkqSTlJZUk/Q2OSR5RXLHhFETZk04n2KSIklpTCWlJqVuT+2dGDpx9cTONM+00rTrk+wnFU06O9lkcu7kI1N0pvCnHEgnpCen70r/yI/hV/N7M3gZ6zN6BFzBGsEzYZBwlbBL5C9aIXqS6Z+5IvNpln/WyqwucaC4Qtwt4UrWSV5kR2Rvyn6bE5OzI6c/Nzl3bx45Lz3vkFRfmiNtnWo+tWhqu8xZVirryPfNX53fI4+Ub1cgikmKxgIDeHi/oHRQfqe8XxhQWFX4blrStANFekXSogvTnaYvmv6kOKz4xxn4DMGMlpmWM+fNvD+LM2vLbGR2xuyWOdZzFszpnBs+d+c86ryceb+WuJasKHk9P3l+0wKzBXMXPPwu/LvaUu1SeemN7/2+37QQXyhZ2LbIfdHaRZ/LhGXnyl3LK8o/LhYsPvfD6B8qf+hfkrmkbanX0o3LiMuky64vD1y+c4XeiuIVD1eOW1m/irWqbNXr1VNWn63wqNi0hrpGuaajMqqyca3N2mVrP64Tr7tWFVy1d73p+kXr324Qbri8MWhj3SazTeWbPmyWbL65JXxLfbVddcVW4tbCrY+3JW07/SP7x5rtJtvLt3/aId3RsTNuZ2uNd03NLtNdS2vRWmVt1+603Zf2hOxprHOp27KXubd8H9in3PfHT+k/Xd8fub/lAPtA3c+2P68/yDhYVo/UT6/vaRA3dDSmNLYfGnuopcmv6eAvI3/ZcdjycNURwyNLj1KPLjjaf6z4WG+zrLn7eNbxhy1TWm6fmHDiauv41raTkSfPnAo7deI05/SxM/5nDp/1PXvoHPtcw3mv8/UXPC8c/NXz14NtXm31F70vNl7yudTUPqb96OXAy8evhFw5dZV39fy16Gvt1xOv37yRdqPjpvDm01u5t178Vvhb3+25dwh3yu7q3q24Z3qv+nfH3/d2eHUcuR9y/8KD+Ae3HwoePnukePSxc8Fj+uOKJxZPap66PT3cFdZ16Y+Jf3Q+kz3r6y79U+/P9c8dnv/8V9BfF3om9HS+kL/of7n4lfGrHa89Xrf0xvbee5P3pu9t2Tvjdzvfs9+f/pD84UnftI+kj5WfHD81fY78fKc/r79fxpfzB44CGKxoZiYAL3cAQE+BZ4dL8JowUX3nGyiI+p46QOA/sfpeOFC8ANgRBEDiXACi4BllI6y2kGmwVR3VE4IA6u4+VDVFkenuprZFgzcewrv+/ldmAJCaAPgk7+/v29Df/wneUbFbADTnq++aqkKEd4PNqrsoOF/EB98W9T30qxi/bYHKAw/wbfsvF5mHw8bVJsMAAAA4ZVhJZk1NACoAAAAIAAGHaQAEAAAAAQAAABoAAAAAAAKgAgAEAAAAAQAAAwigAwAEAAAAAQAAAK0AAAAA5A2U7AAAQABJREFUeAHtnQeYFEXTgJVgQEGCktMRD46cj3B35CwKIgqIAVFQyaJ+36+imBOifkQzBlBUkoAg4cg5SM45H0gWkOD/7vbR187uzs7t7aWl9uE5enqqe7rfmZ2ura6uvvGff/65QT5CQAgIASEgBISAEBACN9yQQSAIASEgBISAEBACQkAIKAKiGMmTIASEgBAQAkJACAiBeAKiGMmjIASEgBAQAkJACAiBeAKiGMmjIASEgBAQAkJACAiBeAKiGMmjIASEgBAQAkJACAiBeAKiGMmjIASEgBAQAkJACAiBeAKiGMmjIASEgBAQAkJACAiBeAKiGMmjIASEgBAQAkJACAiBeAKiGMmjIASEgBAQAkJACAiBeAKiGMmjIASEgBAQAkJACAiBeAKiGMmjIASEgBAQAkJACAiBeAKiGMmjIASEgBAQAkJACAiBeAKiGMmjIASEgBAQAkJACAiBeAKiGMmjIASEgBAQAkJACAiBeAKiGMmjIASEgBAQAkJACAiBeAKiGMmjIASEgBAQAkJACAiBeAKiGMmjIASEgBAQAkJACAiBeAKiGMmjIASEgBAQAkJACAiBeAKiGMmjIASEgBAQAkJACAiBeAKiGMmjIASEgBAQAkJACAiBeAKiGMmjIASEgBAQAkJACAiBeAKiGMmjIASEgBAQAkJACAiBeAKiGMmjIASEgBAQAkJACAiBeAKiGMmjIASEgBAQAkJACAiBeAKiGMmjIASEgBAQAkJACAiBeAKiGMmjIASEgBAQAkJACAiBeAKiGMmjIASEgBAQAkJACAiBeAKiGMmjIASEgBAQAkJACAiBeAKiGMmjIASEgBAQAkJACAiBeAKiGMmjIASEgBAQAkJACAiBeAKiGMmjIASEgBAQAkJACAiBeAKiGMmjIASEgBAQAkJACAiBeAKiGMmjIASEgBAQAkJACAiBeAKiGMmjIASEgBAQAkJACAiBeAKiGMmjIASEgBAQAkJACAiBeAKiGMmjIASEgBAQAkJACAiBeAKiGMmjIASEgBAQAkJACAiBeAKiGMmjIASEgBAQAkJACAiBeAKZhIQQEAJCIF0Q+Oeff5LSTorfeOONqgaV1oee1V66dMnr2atXr2bI4Pl70iVLnRkzZvRayrP+tJlD75LS/kQRvnz5soZw5coV0KlDKsmUKZNNMxDg7txww40ZM8bfCFX8ytWr3APuDmV1bfoSkhACzgmIYuSclUgKASGQagQYs8f+8OPEiZMCboE5bGfJkqVsRNmWzZuXLVvGs0LG7M4PPczfP4//+eeJE6dPnzZlbr311tuyZLntdj633Xbb7TfcEK+uoXNVrFixevVq1apVzZ49u1kkvaSnT5/x1dejg9VaOJQqWbJNm7s9K0Sz6dmzz/QZMzxPkfPqqwO7PNTZ6ykyt23b3rRZi/Dw0tmyZbPIqFtcsmSJ118bZDklh0LAOQFRjJyzEkkhIARSjUBcXNywYcMPHDgYrBbExs6tWb2619qWLFm6bNlyr6fIPO/+HDt+3FNg6bLloz79LH++fL1692x77z2ZM2f2lEmzOSiCP477yabjiW05VT39dA+vpbDx+NKKkJ87d16njg/6svrMX7AAmc2bt3itmcz69WNME5QvMckXAr4IiGLki4zkCwEhkIYIzJu/0NSKypWLKFWqVN68ed1NdM2RXb36z8yZs7Zt26YaHR0VVa58hNkBJlkQ2LRps84MCwvTaTNRu3bkvLmzd+3azdj8119/PfFkwujet2+fypUqIoxxgo+aViOxafNmNC00Kk4dPHTohRf+u3fv3t69et50001mzWk5TX/pgm5h+fLlwooWLVioEDnuiULX3+XLV2jNqUYNjGNV3WdvhAC3gA9ntQCnihQpois0EzfffPOSxQtQbgCILXDosOHUrAXmzp0bGzuvYcP6OsdMYEzCEHXg4MEjh48M+ehjdapEiRIVK5QvUaJ4uXLlsNv5UqrMeiQtBHwREMXIFxnJFwJCIK0QYOycP2+eak1kZK2ODz7QrFlTPFHM9jHh9c033+octKJn+/fThyrRp3evZcuXd+36BOoO02D58im9yiJ1A6N1IfeHE/PnLzBPd3+ym1ddJyqqXtfHHp0yZWqfvv2V/LBhIxi/W7dupZQns5K0mZ4TG6saVrFiBfrSokVzWo6uo1uLGeaZnr31IZOG/fv1NQU4hYa0ffuOVwe9tnDhIg6LFy+m5c0EpfK4P2Ru2bJ13br1JO68885jx46RuHLl6uzZsxs0iLFUzik+2OHq1atLgmtdunxp6NDhaEUffzS4TBkvs6LuEvJHCCSOQIbEiYu0EBACQiDFCfz555/zFyzksj16PPn1V1+0atXSohVxauOmTWfPntVNq1u3jk7rBCN9zRo1SpcqRU5ERFmv464WVon16zfonHIRETZaDk3Cn+a5AfGKEaVQko4ejdPFk55gtuvd9953ux4nvbJ/1YDSs3CBS5Vp0KD+t998jT6H0cXC5+jRo7/9Nl0XiyjrBSBFcPHhlBKrUL68lveVWPPHHxcuXECFatqksZaZO28ehjd96DWBYrRurUujevjhh0Qr8opIMgMjIIpRYNyklBAQAilHYPac2JMnT951112dO3X05biz2ZgjK1KkcLWqrlkezw8jd6nSLsWIodRGy1EFGXo3bNyoK8Ff2+8cTUTEv+bvtm7dqosnPfHhkI+GDx+5aNHipFdlqWHHjp3z5s+Hbfcnn8Cr3HJWHVqMZxUq+FR68IymCHqkRbXyWu3atevIb9yoEVZALcC06dQp0/Sh18SRI0fwBeNUlcqVvApIphAIjIAoRoFxk1JCQAikEAG0kwXu+az27e/Lnz+/16sy16bGV3U2slYtG6WHJWmIFcifz++wjR1lzZo1+oqoAn6LHPm3iWjb9u26eNIT6up+2xDAhbDQUOqJJx5ngsxrcUIlrFi5Sp8qVKjgNQcvnZeQYOEeB6XDS9vcBSUN4fXuebRmzZrVqlWzTp3aupYZM37HQqYPPRO4ul+8eJF5tNKlXXqYfIRAsAiIYhQsklKPEBACyULg+PHjah6tefMEi4LlSnil4DykM6tVr+ZrSEbNokIk8WjR8r4S+/btNz2+q1Wt4ktS5+/evUunSfiyb5kyqZ5GO1kw3zVT2bRpE1+NuXr1yqaNm/TZWrUifRFGRhEuXaqkXx1uz54969a7psMiIsowF9m0SUIDVqxcuWjxEn1Fz8Ry98pBPKJsWuJZSnKEgF8Cohj5RSQCQkAIpCYBNY/GGmymZny1Y8OGDaYGU6tmDV+SKAHKw9eJYrRkqWuVmfrkzZunePHi1468/4/WdejgIfNc+XLlzMO0md67dx/zaHgXad8gz3Zik1u/IcHdqk7tWjZKjyLsxJCD1QdoFSrEKzctWzbPnz+fvvq0ab9xXX1oJshfucplwapUqaJNS8wikhYCDgmIYuQQlIgJASGQCgQYNZe4zQaNGzeyubzyNVECZcqEs+DJRpgIgbfccgsTNzYynOLSyiahxFgEbi/PWdyiTZdhdCnCCvgtleoCSv9DMbIxvaxd5/IE0h9zzktnqgQqy7btO0gXLVrUcsrzcKV7ei4ysqa6NIExTU+jyZN/3b17t2cpck6dOsVyNhLiYOSVj2QmhYAoRkmhJ2WFgBBIXgKMskSs4Rrt72vn60ou44Hh/lKlcmWbAR51Jy4uDm8hGxl1IWxLy1es1BetVLEicz360Gti1649S5e63IHVp3WrVn6LXJNNtf+hh/5Xvnz5mjW8h7ukZRYdsWTJEjly5PDVYirEYgRhX9EQdEGXg5F70V/DBg1UJjelRfNmWuDcuXPjJ0zk6jpHJ9StEQcjDUQSQSTg53sexCtJVUJACAiBxBJgFdh3345mrsRmORjDp6kYVaxU0Ubpweln65aN9hWqRh46dHj//v26wZWr+Fn6hEIw+dfJWp65vwED+gd3lseriqCvGFgCVu+++zY127hD0TWCgev6K1WqZEMYXZAF//YVqqqOHInbssUV45EKzcob1I9h/lTl/PrrFBbKEXRKC6jECndASHEwsmCRw6AQEItRUDBKJUJACCQXAQZaG62IqxJqmUBH+vJVq1TVaa8JNAAnhpzlhjc3lgksRl5r05ljxv5IsEF9+O47b9moGlosUYngqln60tCwbyqboKig3qpI5cqV7Fvit0JVz/LlLmWLiJ16O1gOudfmbNru3Xt+GT9Byeu/KGorV63mUByMNBNJBJGAKEZBhClVCQEhkAoElq1I2E0id+67ChcumPRGYPBgVZSup2nTxl4DXisB4mi/8857L774kjokDtBP48bmypVLF0/vicVLlrIwXveiahX/q/O0sE1ihXumslbNeAcjLdmyZcuiRRP2EsHTiEk3fZYEvlyr3J7X4mBkYpF0sAiIYhQsklKPEBACqUAA48GqFQnxdexneZy3j5F4ldsmoYoQLhJViWuRz4f4Ovw9d+4v/H+nTp3W4YGOI0aOUpL3tWu7fNniqlWr2ttUnLck1SXptemEjndRcR8bfSSqqSg3allZ7doJsYtUDbfeeosZOIBt1GbNmm1WvtodXEocjEwmkg4iAfExCiJMqUoICIGUJsAqfdO0Y+957bxxx/88oRY9qSLDh48YPmIkadQj/mI+OXz4CFtk6ArZFZUdLdhJIyYm2sk8nS6Y9hN02dzhtUqVKkHR+S5cuMiGvtmyZSsbYd3jjPpbtWwxcuSnGg7BHhs1aqgdm1a5fe0rXlvkr8UkIQSCQkAUo6BglEqEgBBIHQJqSkVf21fgZi3gMGG61FBkmbH3u6WGenXrtmrdMjqqHnNnIaYSqZ6ierKdme513Tp2oR21mN+EunE1qle7KXNmT+GyZcuiaE6f8bs6NeP3mX0OHixY0DVJigVr9RpXeypVlghGnuQkJwgERDEKAkSpQggIgdQioKZj1NWJTmSzgZfzFmIjWbIkIeZyh/vbv/LqwIwZvDgeYD/CcZhPEo0oyhCVqBb6FaZObWLxK2wjsNxw4UJM7WxvI+/wlLpxvmKU0/KWrVpqxejMmTPTpk3v1q0rlbsUo9WufVqwDjq8logJgUQREMUoUbhEWAgIgTREgDHSjBtUtWqVoKgC+A8tNWJelytX7pabb06+buOxNPjDIU5arvQnolma+5/4ahhw+vXtk0QjFldcbOzLQWhsJ2EbfTVJ59O2NW6rT80aPsNsEtDo84oV/vhjrSr1+8yZjz76MN1Zt24dW464HYxcmwHLRwgEnYAoRkFHKhUKASGQQgTYy2Lr1m36YsFSjDZs2Lhr125dbcWKPreR1zJJSaDb/fjjuOPHEyIO2Nc2bNgIewF1NleunDHRMTVqeN8U1kkNyLh1xIQIRjVr1nCiwPmtnGrZnRcHo4hyZX0Js26/ZcsWWjHCz2nBwoUx0dHr1rl2JhEHI1/cJD/pBEQxSjpDqUEICIHUIWCZ5WHtWFDaYW6RxtZd4eHhQanWVyVsTvLBB+8zG+dLQOcvWrx4xIhRn382yj7skJLH2FO1alInmyxRLmlqEicNVdvYYOTMmbPEwPQ6Qan7e0+bNp9//sWRI/FO7lOn/landu0NGzciIA5GmpIkgk5AFKOgI5UKhYAQSCECa6/Ns3A9DAw1fG9q4bxB6BPm6nS2SMuQIaPz4gFI0nJ8t50UVFvCMZ0ULEcfvxc13a6zZMkSFMJcdNHCxfwtU6aMvf3pzjtzsa3KZ59/odo5beq0p3o8qW66OBj5vXciEDABL+6EAdclBYWAEBACKUYAPxVzZ1Pm0ZzYUfw2j1kec4s0vLnNuMx+i4eSADqiqXpWqVKZ2JVJ7yA3brHbt728vx12sU7dfXdrfcWz58798suEzVu2iIORZiKJ5CAgilFyUJU6hYAQSHYCaDBr167Tl2HYtjc/aEn7BAv1T58+rWWCFeVZV5iOEhbVs0rloPm2K4duJ0sIy5Yt09zYVvaLL78EoDgYpaOnKD02VRSj9HjXpM1CQAjcYJqLwFGtapK8jDVQ08HorrvuYjcufep6S7ADHevfdK/xWAqKg9Gq1a5tznAwyps3r67cV4J5xhYtmuuzRBsnLQ5GGogkkoOAKEbJQVXqFAJCINkJrF+3Xl+D4IrR0Y7cdHQRrwkmj8yA17Vq1mBg9ip5PWTGzp1ndhPjjXkYcHr1KlcUopjoKIcWvmZNmxAmwLwc1kHzUNJCILgERDEKLk+pTQgIgZQgQOwfc9iuU6e2w1HWvnFMz/1LMYqsFZRq7S+aNs+CYumSpbptpUqVZJc0fRhwgmrVsrIiRRK2ibWvDWfzZs2aahmXg1EpiWCkeUgi+AREMQo+U6lRCAiB4BLAkIO/C391tZs2bYqNnasPCxUqqDUYJaxP+U0oeepnzGa/93379uki+fLmI/PKFdel+ej80EuoDgJBd42c2XNi9WHt2gk7gShhfcpvAnlq5sPGsS+//Mqvv06hCH8hS8IJVwIa3XrrrepC4mDkF7gIJJFAqi3X56uya9eeffv2Eke1cOFCQZm6TiILKS4EhEAaJOAaoWfPYUN1RtYTJ04eO3bs4MGDGzduMps6dOhwIgHecccdWDWyZ78DyRrVq0dHR5kyXtOMzR8M/vDK5StxcXEnT50yXWqQHzFq1Fdff12iRHE2GylVslSbNgkrpLzWln4zoUdoaeYNjx07jmvRiRMniJx58uRJ3aOvvhq9efMWRZhV9BDOnz9/p44PagFfCQhPmTKVDUAovmPHDh3H8qeff1m6bHnp0qX417tXT/sVhUWKFGZCbfyEiVxFHIx8oZb8YBFINcXozJkzPXv22rhpU/ny5X/5+cckxq0PFg6pRwgIgbRGAMVo1KefWVQWz0YuWLDQzCz1YUnz0FeaKbnhw0f6OrtsqSvo87x58/k7cuRwX2LpPR/C48dPGP3Nt/YdsWys+9RT3e3l1VlUqN59+nmVxDjHZ+bMWb169vQqoDMxBzKbphSjquJgpLlIInkIpJpiRHx3tCI6xcY3LN1MsXhlyYNRahUCQiC5CGBOrlatavXq1Ri/8+TOzUqx2267TV2MHG1sxrxxNC4OUwc5TLs5DEWIoaJHj+44WVMVdaradLUnTp7cu3fvxYsXyWnYoH5y9TAN1Ht71qxK0cHkBmQsQ56Ez507h13tyNGjilJERISThmOFomYMePpOabynTp/G+Hfm9JlMmfx7uDdoUP/Dwe/TvJIlHam8TtomMkLAK4HUUYz4Ysyfv0A3aNpvv9WtW0d/bXS+JISAEBACvBkGPNs/mThginhuQHJVnkxtDnq1bsLejTpJvxaEg3L7mFW45542SW+P1CAE/BJIHedrZp3nuq3Tqn3Tp/+O64DftoqAEBACQkAICAEhIASSlUDqKEaLFi3evXu37hi+fkuXJqwL1fmSEAJCQAgIAU0AW3u+fPn0oSSEgBBIDgKpoBjx3V6wcJGlM7gckW/JlEMhIASEgBDQBJ7t32/e3NkEbdI5khACQiDoBFJBMfr7778XL3ZtrUzEMN2fFStXqpgWOkcSQkAICAEhYBLAGQhXm+s5GLdJQ9JCIJkIpIJixL6P69dvYDFIo0YNda/WrVu/bds2fSgJISAEhIAQEAJCQAikPIGUVoyYL4ud64pXy9rLli1amB2eN2++zKaZQCQtBISAEBACQkAIpDCBlFaMmC9b6HYwat6sKVNp5cuX0x2eM2euzKZpGpIQAkJACAgBISAEUp5ASitGq1evIfY88dlatGjOTHmTJo11n5cuW8YpfSgJISAEhIAQEAJCQAikMIGUDvCo5tFioqPQinAkbNK48QcffKj7PGvWnCpVKpOvcxwm2OXxypXLm12fLQcOHMyZM2eOnDkKFMhfsUJFvzFVcQYnoiueT2xLybq47Nmzs9kSpiyWxeptKWkGge2Z6eMvaZXYvn37yZOnWCGiG6zPqjlB/vJB4atTO2Hrb3IwjHEh6lJV7dq1i/2JVD00hs29z58/HxZWNFeuXGYDEFYfNjFYuGjRKTZ2OnWKbY3y5c0bFhZWtGgRep2onVVoLS2hFxs2bNy7dx+XY5spAstGRtZSd0ddjgarftFN9SGfHPI5JK0bSR5VahkSSkaJqdrkrxAQAkJACAiBtEwgRRUjPY/WuHEjNZoWK1asatUqK1euUoxiY2P79eud2NH98OEjr7w6iEqIh2RhjV3q7tatsEt5HZvRMAjA/cn/huL6Tdosmzt37vbt2+mtDRng2WmSnbcvXLiADqH3ViTUvbl0ltqGDR9xlI0J4uJQtlSFbGVQOzJSV44r1f+GDs+Q4cY9e/YcOXJU5bs2JahVc8hHH8+aNRvdTmU+/XSPPr17mTRQR2bM+P3HcT/NmROrK9SJNm3oa8uYmGi/i1boDttcv//+4ClTpx48eEjXoBLlIiLoe6dOHVU9NHjosOHZ77ijcOEiN99yk1J32Dth48aNf/31F3s16LC2g1573aVc/vNPmfDw27NlPXr4yOEjR1D1nurR3cl2npZmyKEQEAJCQAgIgZQnkKKKEcGKmCzDJoG+orqKOadp0yZaMdq0eTO6Rf36MQ5BoGmtXLW6Z8/eR4+6NIx6desyTmNzQuHYs3fPJ58MnTp1Wmzs3C8+/7RmzRqWOhmwR4/+9o0331L5qBSRtSOz35H94KGDc2bPWbhoMft179ix85OPh6CaMNgj5rmNpae+5VeGqlasWGFpDJaXceN+4opMMrLHk6qEwxLFi999d2ttkpk8+dc+fV3bF+TKlfPZZ/vnd9u02HKOrS6Xr1g5ceIk/nXp8tBLL/7XVKcs10K7On78+PMv/FdpV6VKlYqOqlexYoW//76ErvbRx5+s37CBf1iEHu7yEB3kw42zVKIPq1WrptO333abarlFHsVIy0hCCAgBISAEhEBaJpCiitH8BQtgoebRNJToqOg333xbH86ePQebB4OxzvGVQCtiFEf7UQIDnu33xBPdlELA2D9sWPxW2Fg1xo79AW3DrBOtqH79RgcPuYwlRYsWHfTqQL1ZG6YUdBRV52+/TZ80aXLbtvdStlbNmmxeyI6S3377fVxcnNdWYWL5/LNR23fswPDjqSGpIpkyZ0ZRY76MrarnzpunMmnwm2+9QyOHDf3ky6++1mXH/vAjSuRNN92EGA0bMWKUkj9+/E9sM+3va8cVaXm3x7uuWrXqvvYPcHb06G9oHvqcV7sRF1q5cuX9HTqqetBKh/7vYy25fv16kKpTX3/9zYMPdLj55ptRy2jwvv370T7R1dRZ/mLQKhYWljtPHp1To2Z1xCCmc6i/CdbBjP53iNRFSNBTrQua+UlM624msR4pLgSEgBAQAiFMIOUUIz2PFlM/xhz2ihcPq107kk1CFGWUJyRtDB5KDLvL4sVLtFbUuVPH7t2f1NUy/M9fsFDftgkTJ7333ju6TmbNHuvaTWlFyEydMunWW2/VwlSL1qIPd+zcSRrFqF69uiozf/78AwY8rwXMBDoKh0QiaNWyRZ260eYpna7rjlqLVazdfe0efviRTZs2c4qL0qP/++9/cPQpXbq0Fj575qzW5xDYvCV+lg0BZtzIUZLIVK1atW+f3h8O+YicadN++/mX8fe3v0/XoxPsE/5Ql0fUYWStWv/75COtLlDZtN+ma0n2bEE/o9eqU+RzXw4fOkzNSqbD/e0LFSqk5UlEuaUPHz5MQSgNHPhS40YNdftNSZv05StXnh3wPJXYyARwClbfjP4KPS+AslJECAgBISAErh8CKacYrVq1mnm0PHlys1Df5MvAjIlIK0Z79uydExvbuFEjU8YzjVHhv/99UeXfcccdjzzysNaKyGQw7typk7a7YFDRNTBA/vTTzypkAJn9+/U1tSJycD1uUL/+7DlzVBFP9SL3XXfp2nwl8ubN6+uUzs+R/Y6sWbOqQ8i0a9dWBS+oUzsSXWTBgoW33357TP1oImEqGTpFRz797HN1iC6oq1IJHJ5GffrpuXN/cfjD2B/va9fWZEImGmHvPv0uXvxbyQ8a9IpWFsnBSNf+vvbDho1QZ6tXr26Zf1R3SitGP/w4rl+/vhn+bdvD0Fe4cCHI9+rVE1uRqipxf//5J1vWrKbZKXHFRVoICAEhIASEQBIIpJxiFL8eLSZGmyh0sy2zafPmzm/U0M7SgHKDny+zNqqGzp07Fi9eTNdGgks0a9YERYFhvnjx4vfcc7fWAFAOxoz9QQkzRcU0mVmQNIpIy1YtmGtbsHAhs0VYPiwCTkwgmKwspfwe4oSuamZx2ZdffIaCiIZhsqJhDzzQ4dixY+MnTGSCilkq3SlVOcXvvPPOc+f2cohtiZ6qOTh96R9/HPf77zPVIV2zQCO/YMH8b775OrOQ+/cf6PhgB0txBJo1a1qlcuVVq1eT/vHHn3BOz3BNb1PVMnE5YcIkVvY1bBCjchL7l069/PKLWJucFMSIZSKyL2LBZS8sZ4WAEBACQuD6JJBCitHly/FxHevHRFvMGHBnNo1ZmHnz56t74Hc2jeFw0aIl+oblzePFPIMagTWIkRt1QRtdKLJ9+w5W5quyLD3DgqXr0Ym2997DAi+UmxtvzIB7uM4PbsKiYDVs0EDXzxDuqbVwtlixsHffffvtt9+0dEoVRF/MkycPGhWHKCgc6gpJ0B2MdjonT+48lgZwiusyQdau7b3cI69qBJlojUoxiouLmzlzVvPmzXSdJEZ/8x0KGX1hTtDMT1TavF/2Bb020r6InBUCQkAICAEhYEMghRSj1atd82i4pERFRTFwqgYxVGslqXadSK0Y+Z1NY1EVsX90r/IXyKfTZoLKLTYPdIWdRkG0It0AsyBp7BBOTBFUyMdTwzBrQ8CrYYPYS1qMWTNCL+lDm4SpCgCQmnEbYvXcjh07tm3fbha0tP/K1avKX0rJ5MvvRZvklCc0s07SLZo3x6SE9zfpcT/9jO1KX4jGTJ/u8lK6t20beyaWOtP+4YDnXhg/fkLab6e0UAgIASGQWgTuvfee995NWEqVWs1I+nVTQjFi/FbzaPv27SsbUd5Jo+1n03a6HaJ1PQULFNRp+wQ6ilk2T+7cAY3fCSvmKO61Bq380R4EtOpgNi9jxgz68I47snmtRwuYCXiiDM2bvwBHHKxf+69NKSLDujlT0kwTe1E5eqtM59DMSkjnzn0Xs3jffz+WNAv+Dx06VLBgPH88t1B/2RuYFXyWUiFwiNoXAr2QLggBISAEhIA9gRRSjFiabt8Oy1n72bQtW7eZ8gULFjAPbdIoRluuhU9ErEABpwXNOjHTmIde074MUaYwjdGHOOXotE2CsZkglh999L85sXN0YEYW+detUwcIJUoUf/2Nt3wV37lzF+qUPlvAMTRdRCXoGvHKlWJEztgfxvXv1wetju4oByac670qgpZ60t0h/lXprs3SYCEgBISAEEgsgZRQjDZt3oJ3C7NaI4YPNWeCLG1ldmzgK4NUpv1smmUlFI7SWbJksdTm9dBllbkxwU5jKgpe5b1m5rrTv/cMRh2vZc1MQy+6gbiO5imvaepkn7kePZ7BuUcJtGrVEpegmjVrZs7suo+Wi1oOibVtVnss7ljW2283c5ynCfbNgrWlS5dRBIfu3r2ewSsIpQ11FusR9iTnVaUXydCwD6cX2tJOISAEhEAqEkh2xQhDwkJ3XMeODz7AvhA2ppQKFcprxQgiNrNp4eHhJrI//zzh0OJCqYiIMlOmTFHF2dmD5jmfw1Klcubw7wzkpM5//nFtN2Z2xD7Nzmj33ddBy/Tr1+fpp3qYPNGEzArNU5QqGhaG+qU3Ktm2bVtYWFHyA/hQc8OGDZRi5HLBnjWrebNms+fEos4+8nAXS/iDAOrftm170OMY0QwCMdjo5QG0U4oIASEgBIRA6BFIdsUIQ8KixUsAV7lyJctQbaGJAzJ7qOn15DazaSVKlDDLMrvEci0zx1eaBhQvVkyfPXX6dACKkRMlzIliZKGBWmMzA0Xcpnff+0C3/KHOnZ55+inLVTi05CBPQf5i0cHMFhFRlghDqpLd7sVrusJEJWg58RTef/+Dv/92VT5u3M8cxs6JJY2DkaVfiaoZYR6Yl14eqLSuxJa1l58xfVrJkv96cuzl5awQEAJCQAhchwSSXTHauXMX25+xMJ6oyPZ8UQvY50wrRjazabgqlykTrl2JCRvNFmm+KmfF1oEDB3AZVnYmc2jcuHETlgnPSEW6qnnz5qNqEG7RVDhMq4NanKXldcKU15meCS1GwjT2eEpimGFjE52PBqnL6kxLggpRMjp17sLOZdu2bgIvIZ20YsQWIv/885ivSnAeJ+QmqwjDwopaqlWHxFiKiYlhR1sOccHevXvPr1OmVqlSxRIT0mtZ+0yaREgn/tmLBXC2aNEiAZSSIkJACAgBIXBdEUhexYixWW0HhiGB+NR+yeK8Ysr4mk1jjGdrVa0Y/frrFGI5+jK3fPrpZ8RofvXVgUoxKly4MF60bILGhdA2vh8z9tn+/cyL6vSly5ffe+8DdohftHC+r8g6hFvU8mZiucc2seZZzzSg7A0tBw4c1KXY3I1ZIX2oE0yTrVmzRh+iYaAYKdUHcxT6XLOmTcaMca0m4zN9+ozNmzeXKVNGHVr+skfbSy8NZCk+bmFelSdoE69cKUaUZX3cmTNnGjVqYGqNljodHsJhwLP9HQqLmBAQAkJACAiB4BJI8EQObr2qtrNnzy1csIg0Ef/sB34lH14mvGLFirolajZNH5qJx7s+1rBBfZWzdds2dCPzrE5v3boNrahcRAROyiqTEf2VgS/p8ZvwzezGquXNxJjvx7DJfIsWLSyagdmR06dPm0VUGnPL55996ZmflJwCBRICcF++fMniWK1qxtim5rbUIcoWnT127DiHqs2Yvgh4rZuBjcdrPcy+oU0i1q1bV0vfdVkSbDmSI0f8Yrofx/2Ec33TJo1NAUkLASEgBISAEEh3BIKvGDEeM9zyWbFiRZeHH1EWo7fefmflylVkegVEET6cypQxY1RUwowbs2loPOgZnKWsklE1oNkMHfpJtmzZ1GGfvv0nTpxkCpBPQXYOIdHhgftvuilh99AcOXK88cZrqiBGo169+3nqRmwoNuQjV/3EwNZalCqCroC9SqX5a7koOahibLVWq1Z8LB9mrwjw4yLi7oLui+l4jeJy5YqLAGfVR9evEnfddVf4tc1l2a/jq69HWwROnDhhyWQlIAQIholXO3Uiz1V69nyGaThVlv1SBn84hFaZVXH4zbff7d27r8tDnStXqmSesqTBEhMdrTKPHj2KOzamLIuMHAoBISAEhIAQSF8E/Li2JLYzDMDvvf8Be7AvW76cQDvoEAzG2upQqlTJ+jExLKfSOap+nJAWLlp04sTJo0eOxM6dZ7kocXpQC4oULYJyxCSLWfb8+fNPP9MLHxdV5D8vPF+7du3w8FLIrF69hpaglGBYGj58mFrQrmtmjgn/oce6dlM5eHM/3vVRJvLy5cvHZhrEOMaStGHjxldfebnzQ50t0QEoMmvW7Me7PanKsq8Z7lOqVSgiX4/+5s03337uuWdpFc49SgZ/7apVKpcqXYrIh0guWbr09KnTu3bv1nvZIoYihVJSvXo1/rKTiWUfeMCi+fXt96yqkL9ff/UFRcDLqZmzZrNsPjZ2Lo159LHHlUzlypXLl4sY/c23gz94n93iNLfzFy4MHTp86NBhSuypp3qwbS2QEdi1aze2Isw/EWXLjh//k68JRN0GblyXhx9Vh4M/eI+wp/qUJISAEBACQkAIpEcCwVeMBg8e8r9rg64nEVScpUsW6kFaCZjjq2cRncPgPXbMd5ayBDH66quv33r7XS2mZp2UU87bb73BaG3ZGERJon/gIfTOO+/9Ymz1gE83ysGFCxeqVa3a+aFOrVq28Oq6RFm8cIYM+RiDE7XRMP4yrXbkyFEsN2+8Pqhdu7ZoDKhlulUqgTZD+7UyYTmrD7ds3uDZZi46cdLkb0Z/u/qaIxEu7TgU02CaQctRcRo3avjSy6+MG/eTrqpjxwcGvvySpTYmy2bNnjNw4KtYepQktjG44baFMtS5U8dHHumCM5auxFcC/TI6pgGoCV80/bcpDqNJ+apN8oWAEBACQkAIpDqBZFGMChUulDdPHtU37BlaldnP8rADB3B21jlKZsGChX/88UdERAT2D02EmTPTVINagEezZ1nkGZ6xM61du3bDho3r1q3HRFWpUqWKFSpE1q6Fd5FXzUZfBRvPlClT16/f4P63nnjQqESVq1S+u3UrGmNTln6xFOv778fs2bt38+Yt7HbCNbE5Mf1Uv34MZx/s2Fl3M0uW2+66684778wVWasWW4Ts2bOncKFCug0mItLrN2x8oltXX9aaCxcvTv9tOhEQNm7YiAtUieIlypQNJxQCDVb7tv596dL4X8b/Nn1GWFhY7cha9aLq3XzTTfpaOgHPjRs3Ll68dL3rsyHu2DFW9rEWjC4AzTJ7qEt5JjDLMSWHy9d//vO8efs8JUMvRy1aDLhflvuOtbKkj2gChLDihvKMeV7LrISzPDbE2cqRM2e2rFl5ejFA8pePZ8F0kbNz5y7eGAE3lYdcP5Ok+T5q466lzkuXLn/8ySfAtORzSGaf3r18fR8R4JfJTz//TOWEAlHfQXVTVG28lB58sAP3xLPmtJ/Dq9W0aielwfzQ8rosFEq/z5zJ1kZOKs+aNWvOnDlz5cyZMWOmIkUK87rG+0K/Zp3UkGZlGE327t2b9Oaph9yzHp5/5hzM7TK1DLegUsWK2sVC5+sEZT8Y/CE1A79YWDFGWPXNUs85P8v54d2yZQv9XdMF028iyIpRKoLgJnG3+EsbuIXcJOdfGFVQl3U+kJgX5cpsf6YfDlQu1QD+6kSw+NBgPry2XNfzUOBUq7iWk45Qieo48qo2542kj3XqRmN2mjD+J9Nr3nkN6VcSU2Xnhx7Ws6VB6cjmTRtuvtmLFrto8eJOnboEcAlCeqIK1Ktb9/4O7RlCAqghFYvwdA0Y8PyEiZOC2IbRX38JEM8K7Y3WHw5mMrqNZyly+O68/PIr3373vdezKvOF5wd06/Y4Xy4bmbR5ir0BGjZqmhTdVPerR48nnxuQ4Amg81FJn+nZS69v1flOEvyEq1qtChHd0EfVO9ZJqTQow6P+8sBX9ZLhpLSQ6Yvvv/vG883PJQjd4jmJoa7Fupyvvvzcs5Q6y2MQXqacTauYu5g/b45lXsJGPu2fSt7l+inZf74Yvu6r32YE/M6yuahzo4vf5nkKKA3G1yVsWuVZlXNojAGWt88v4yeiFbGqv3x5R3sDe149/easWfNHcLUiHNHMfYVNMidPniIgxcULFw8eOsQoZf68zpcvL+GmypYte9ttWS79fYlfb0fj4pgqxceOv0RwIDIF/+bOm//xxx96tR2aF0pT6dWr/wiuVkTvfEVnJf4FhBE4fPgIlrlzZ89tNBarTvtteuvWrbx+U/hGZLvjDhZ78jBgHAK4ZsjXEytslapVChYqFPAbRteWKgm6zAOmnBPwE8DUbTYDmzSGcHLULytQqFcEWxHgpcC+AqYwBlHzUKd55osXL/bMM08dOXwEm4k5cnOzcEvF+0KZmk6eOHU07ijWUyrfuXMXNWAy59/Uqb+NHDmsQvnyXm+QvlBaToBu+/bt2HdJQI+02Vq+4NwFM0elz5w5Cwq+8uYpdkb3+rABh6eRf2fPnD148ODpM2dM1EzaYJNu2aK5WZVO79ixAz8N7j5P+O7du3U+Cdxza1SvniNnjvQL3+yOToeOYqS7JIngEuBlx9ePyUpsJEwF6iDjmJrmz3N5yrdu1dLrVzG4zUhTtV25cnXe/PmqSaXxqa9VkwV6pUqVIo4omZDhLz/RypVPWNb34ov/xXmL1wemPoWL4KJTp/02/pcJm7dsQZ6pAV6Lqk7L3xZsudK0CRXymwx7OGswlQATNLNn/c4sjy6oEpcvX7l48QJzxJ99/qV6yc6YMeM/L/z37bffuummzJbK0+zh3HlzVdt4+dbk7VujeuVKFfPnd8WtAAUk0fza3NNOjyIvvfR/EIatGp7dYlcmTJzIUomZM2epqsLCiqqE5S9KDNP0quDRo3G1IutQv7qPSGLPYCkGQ6+llDrs17c3wpRlbrpV6/j1B/37972/fXulN3gtlS4ywfLD2O95YnmuUIzq1I3SzWbqvOtj8Qsv6DuGeszlroT7gxhzcJN/nfLLL+NVkSI+fBa5XypuGZfgttaLikE3VUUGvvyiuf5XPdtcCVv58uUrFyxcwCQ+kmgGbdu2nzTxl3LlyikZVTwd/eX5wX1WceY1e3ebtvqpbtWy5eDB75kvWPoIY/WXR5RwdL/+OvXTzz5X/cWPxSsEMnXEPkr1db9DULn0BH1s7Fz2/zYvpAGWdn/UN4KC3FZOsScmu2RyhjSV89HyIZAQxSgEbmLydgGn8o6duqgvavv27d94/VXlb7F23TpXtOvKla/Dbed5NTP5AvfoqHqvvTaoYMEC5ntBWfJMp34k69apY1lpWLBgwSe6Pc46ytatXdM0vGK8vpXU3eWUslQvXLRY5fA3JjqKe8ELS+eoRObMmTJnvr1Dh/vLlS/35JM91EKE8RMm5sufz6uXnqW480NGMt7mpmbmvKy9JO9uRbhkyZIseGQ3G0/C+GTo8YPaqlerZjHmcyMe6HA/AbcaNGzCAEA4CZuN/FyvdvfLfcmSpdRG/FKMQDpQ2dSp08r7GHcVf8qiGefKlZNo+EM+/KBNm7vtOxjwWQZF4HBR1dqA63FYkAePD8K4gZpFYmJiPB+8fwtE16lTB+umukfqN4MpoNO6I5iftVbEWRaUqEtrSRLcogwZMkVG1uQfh0o3ItG9x9OfjhqB6dQUTmKaOHwYYnXzklibfXE3Zhdnlv6YT3VUdD31vvVanFtQgXAs5csfOXJk0uRfkcGX1askmbojrOZWP8YIvPzll18p+Xlz52EZ4uvmWVzfaBIQRjFi6u2Tj4fYNMyzkvSVk/6mvdMX3xBoLZMy+os6btw4rBF0ilfzt998R+Luu11e6iHQzUR1ASa88THyv/baq4UKFdRvHF0JoxcbzuhDvNpLlCiuD81E2TLhzMWQQ8KzHlOSNFoITvc6k5FDv7N0ppkg7II5QmNtQpUxBZKSpo/EwcLRavv2HUmpx2tZonCpGcO+fXqVKxfhlYxJmMD64eGuH6+eH9QjrHrkW7QrT0ly6NRit2LEr2dT42c6kkAeXovoTAyraEXs+RgdnWBZ0WeDlUBfLFmqDA7LwarQYT2rVq/Rkjx4xcKK6kNfCRT0++5rq86y9sSXmM4354hxjytm7GupZcwE3kX6kOgwalNOnZPEBNrD/R0emDBhIl+6JFaVqOI8+aY8P73MQ69pvh38ClKnnHBmRozvLD8SzCecKXgM2F7r15l8O5i75BBtLIS1Ijp43Q1p+h5LwiEBc0QvW6YMahBvCkI9YREhRlQn9+SFw6pCQwylUIUtbd++HbZor50C0datW/Wpmu6IU/rQkijjHtFLePutZpGkWuZ0dCYmCp32lTBVCkxHfHxJBpCP2R+zyuEj8XMfAdTgq0jsXNc8GmYb891tCvOO3mIQRvWxUdCVzoTqaSOjKj9//sLSpa5Nr1llw/SlvqI72OxUfeg1QVhU8lmdqgPPehULSqapQwSlQvtKeOZZ9qtl2BXRL0klXLNGDRJM4Dphsm79en0JtFhusT70mrC0gdXBQVRi8DgmfAnLuMxvkNdmBDGTLq9anaAYlSpZkoVgTurX0VXyevNGstTAnC85+EWwnNncrmD27Dn2P5zAizcSZatUTnASsFQeGoeiGIXGfUzGXuTNmw+vQC6AlfX11wexHRtLNwc89wIvx7ffflNNGyXj5dNe1bwd8J9gXuy+du18tQ6NwfRtrFndFT/TqzC14dTCKbwmvQqYmeyXbB7Wrh1pHnpNW0aXP0+c8CoWWOaF8xcCK2hfimFYrRLH3OWLGzLoZLoe3LxsjGdxcceQVP4QuojXxPLly1k4nT37HTzYrF8zNyWcPn26/bCxxj3ZxMyGZcD2eqH0lWl5nnH2cthHHLTpKbZVm7ujUPBFWLFipcaCm7Bfm4T12f7zT1086YkLFy4mvZLE1gAENZOrClauUskvNyV5p9sLnjRxauwvyiWUqZWfHJkzZWLpjJZH28YhTx96Jvbu3Y/zOzZRTOCeZ0MpRxSjULqbydKXTJkyssiZb9G2bdvatmv/wIOdmNfHlPreu287MdsmS5tStVJs3X/8sZawH2FhRX01ZIF7i0B1lt/KtYhf5ePDwP+n+4XuxFF3ydJluhrW5fodnFxa15H4GJ4UvOWWW5hc0zUkPUFUraRX4lkDAySEixQpgte551mVw6InU/WsU7u2L0kgsDEOZ5kA8iWj85VBjgj1DEjoRqbRaE7sXHOTZl1EJVDUVrgVNbzuLKdC4NASzYiIZw47hWc0kihGvhRcXQ8AzRuKqclvEabPdHESZcuWMQ+TmMZilMQaAijO/J05lcaz5BdC/FXc1jXiF/iVhzNbL1CqhXsNGsstze8Fa9MQ8NXybdtcVvCUsYn6akPK5IvzdcpwTt9XYUDF1W7G7zNxd8WZAy9XFtBeh7Yi7iI/Upcuc2knTa5tOed5a5Eh8pDOr+GKsujzFwjuvfwIY30Zv8N0Ea8JBnj2H9Sn+Ent9yVIkTV/JMyAlC9fzq8upet3krhw/rwTscTKsHs0RRo3bmhxpjbrMXVE/FGYFDDPmmluB5sUsfab4dnM90wjuXXrNvKjoqMUWwaPkaM+0/OPkyZP8TWLBOply1eE6o9p0+U/f758+fPn86SH8rR9xw6iXOKZq88qxYi1hH6fVdNSQvGaNV1zcPYfNcBrGZT+ID7eOEHrmlMsoSaq9OW8GmZ4XUyZOo2wHWo1nxYmkcWBqzgORkyp81245ZabKcJrHKMRk4aqHpayPvlEN6/uenw7tm1zxRHgV3EQOavrprW/Pt/Xaa2h0p7UJcD3h5/v3Z984sEHOuB1dH1qRdwCJlNWLF/JL7Pmvo0ZjJHLjd1gqlaravMeWbfO5VdRtGhRvyOHa+g1quUntU216mlBXjvOk4PfhkPLvCru929yDB4QVnNkLFT21QDe0cx56bMMojYo+AWMx6hNNARdj+vH9BLXZKW2VOHhodPkT578q1rip4voBKum0XFD8sf0FdeDl2CqZLT2+vXnx8ArrwxSmpDGguWPdFiY/8fb1HKwhnq9hK6WBF8HixrBJKYpkMR0cjzb9k3iqTa1Q9yGMJp6Flm6bPn//d9LOPojr8+yoEylbb4ISmDdOleQceaIlSSvHb5o/LRQZwmBwRINs2aVz1+As6UpiZB3MKKPYjHS910SQsA/AWIt1ouqy/hno2EQ5c90kba3h/Pu6979iaoOvFlNrYiGmu4vXtvN2+333xPWLqHMPfP0037VL69V+cq8ePFvX6cCzud9/UCHDujfNjMjaDCrVib4qNrfDu4UhO2jIajWrly1mmg9BQoU0OMEjWneotlnn3+hBJi/Y5kS0Qg9MS53+8eEpIPRX+f+MhcAohh5jr7cEeUhFB7+r/msxx9/DPMDGw3ZPw8MuuYUEtZQz0tYaiDSoOkQ89LLL/qKIWkp6PAw5RUjIKxekxATASOo15eM+tmAf6H5EIaHh7MRp991l1xCmVoja7m2M1co8AMjKJGOOMWy/27duvKTwALq7NmzvIJC1SZq6axYjCxA5FAI2BHAE6jb412ZTNSvFU9pFvPrTCbRKvme5UEMS8bzzw0goIgu4ith+hrzk9qXmM7ftGnTmLFj9eEbbwzKmTOYO3aheF38O/h+GIyI997bhi04bHxvMemrZcOqd6iVupueCUYXCN/T5m6/Y61yEkLjNAckvFnNaVOCuOCJbLkKasFq9yrrFHAw8vpr3tKe4B6uWrXKrFAtxTBzSP8+c5ZS3AsXLmiewvDD0kKbW6mEAbhyZcJVCOdp8/2iCAP8//43TN+I++9v/1CnTn7vr9kwv+mUV4zYHcVc+odi5AmBLs+dO4/Gs7Ol2QWe2KioemqrPjPfknYpRu5oFKbPNe+o5s2ba0kmjtH+9aFO/P77LG5TSNpEdR91QhQjjUISQiAIBBi3zLcb+xkTETjp9fJGM39SM1rbDzaYxHv36a8tOi+//GI5H/EJA24bb23PF3fAtSWqoDmPRkH8fhJV3KswN065cKEYmf1iyDGnTVmC4DlsuMb1VatT5se02TavHQl65kpDMeLB8wwSgZ/yoEGvc12CJtiE0LRp2Jo1f/DEagEsRjrtmUA5IIAWAUv1qdcGvULMJH0YlERw1SwnTVq5MmFRHldnOxlLKWaZe/fpxxNYsWKFPHn8L2K1FOeQiAYs9WD3AlxFzbMx0fVM5mj/lgWYvH/Ul65CxdB3MIJMkB8mk7WkhcB1SIA3yLr1rhho6lO5UqWgvGGpduWqhPemL19jRncG6e+/HzPwlUGqAXnz5mX9IKvZg9KMa91Kzf9BscKwLjB7Za8jOmwrAzPKDcKeC9xatWo5YuSoLVtcS3L4MNdw333tTKsSixIOHTqE07GTaD2qkvTyF9poLbq1DMmLFi1GOXO5t/xzw4mTJ5cvW0b8IbpPhpMZYV2VmVhurCogtrIv7Ypnm1g7w4aP0E1iDuijIYNtnPTNq6TxtBnBqEqVynFxxwjmCX+lCuPbzgS9Wh6IYTKwrzP3DggsurQUx7CHL50OlwBeIpry2GtivFjUMo4qlXyuctDCIZAQxSgEbqJ0IQ0RwEij3BtVm7A8B+UnPnWeO/eX7uctt9w6b958DnlhUf+Zs2dZpXLo4KEjR4/u27tPTzM98kiXF55/jmEjKG3QV0/dBAYD87c1qqfNoj/nTUXvOXPmDDaPHDmyW0qhAxGuQitGjC5MZzRoUF+LMYCRDkkHI6xBZpCC0d98yz/dcUuimjvgmSXT7yHGCdMaim+v6VXNEL5v/34e7yNHjrBDMtshqwq57126dGbw9uum7bcBaUGAp9qcgkdHefSxx301DLXJotn4kjTzfdlElQzr9keM/JRdWdQhC99Ykqmvsm/ffiLWpoxN1GxzaqVFMUot8nLd0CQwZ84cc78nJ85ATkBYQjs+1tXnS5PaWKXVsGGD6Kio4sWLmYYNJxdK+zJ/rF1rBrCpU9ePY6/DHimjBWv9PO1PqJXslDxy5Kfa72TipMm4zqhhAzOG2kUkBRyMHPYliGK4c505c1ZViE867r0qfZQtJOLiWGegr8XZ2pGR+tB5ggHbfLy//e57/vkqjk2uzd2t69St06B+DCpRyGj8dGTpv6OUQQAyp06dgvOJEydNIF7dvEwBr2n3hK/Lkcvrug3XAswWzb76arQqy7oNbj2/E9Sh+q11nTgY0WVRjNR9l79CIAgEsHsT7UlXVKJECc/FHfqs8wTVmvtAsRNLqdKlvA4JvEnvadMmLKwo+pD+tef8QulC0lyPRoNjoqOT3my4Keff6jW8u/2yeJDd07Rfy6RJk7t2fZTdO7k0d4cJjlD9Ma2nV+gpOwIR6xV1hCFWKdzMoBEX5+133mONWO3IWk6ClHreLHyY9D50efLkadv2Hv1sk+DWqCKkWXuFI3wGYm96bJzsWW36ysF1XUOg5QNffpF1lDxa6luMLZOFgcyPE32DRWR+nay99p0oU3/+eYJwjtmzW22iyHOh5s0SFCNuMbNppUqVVLdgvds9gInUUH2rWIiJYmQBIodCIHACvMRNe3hgFm/Py6uhV+ezzM3cPlPnBytBL0xPWF/VIsaHs0yFMBHgS8zMT7ovCCjUwnhVbVS9ehkyZDQvEViaatX0XC0fcQXRBlq2aqkVI64yYcKk8m5/dqYYGNKS6GBEA2CuFQKbXiivWMYtJ8y5QUmZSMLnD6kAAA7LSURBVHVhMTyvw8uEY05jaNRmyIIFCxK88fMvvkQxqlkrPjSOTeO9nlITkepU+XIR/fr2gbZXyaRn8rxevnRJPbf2tSnOEPj7b+6LvazLtKPI+JHzfdoMCUtkDTzcgaw5o8qwPp+oByhGTDUGpp2oZa2sqPVVnEAMWJp1EAQ2Kn7qqe70CwgqvhfTl757EFJnkuv5CylI0hkh4IwA/pL79u3Tsiz0cDLUaXlfCeVOpM96LlfRp4KSYIfg/s8+57yqx3w7Q5iV4Cc7bOgnvl7KpqRNmnf0UveGBkqmbr06QXEw2rNnDxGMfP2YVteKiY7ihmoLCkajHt2fIIKw2pM8iQ5G/CKHuRmN0wYCp0aMGMU/exnOYrP8aMgHuDP7lfQq4Jp8MZZKEZHI5vZhMfJaiX0mN3TxIldQTfUpF+zg7Ncqjv+fWO0s7DLje1kELIfDh4/knyXT6+HgD94nzITXU34z4WxCKBvhPYS3mris6HijOvO6qG7KJlqjps+9VtDDcMHWihG2QNJ416EjEqgzVG2iJiWdFsVIo5CEEEgqgS1btphVBOYKYNag0gsWugLOqg+z/tWqufb0Tb4Phi5a7lClYwrAoXCZMmUc1mnTNSatzBkH/KhshJ2fIpowwvyY1r/RPcuqYUMrRsePH2fa9IEO96shLYkORsX5FAtzGGgK5g5913LmyMHez559cZjDajv0RS0cERGh0zrBqMltLVy4EAHxdabzBGEDV69Zo+UxwtnoXlos4ARNRf3FccdvDWgSmFgccka4Ro3Av5U7duw0IUSULeMJ4fLlK9wOmh1Y4Gl0LxWNwpdNVAG5++7WuGBv2+baGIcPvnRsCqnCl18/DkZ0XBQj9/2XP0IgyQR4OZqraYjDW6jgv4LdBXYFflKbGzIQ2M3zpRlYzb5KsT/J2DHf+Tqr8+lvx04Pcdjzmaf9hjZGDPmkK0Zr3RsaqDbceeedYWFFVTopf2mY2sKFOUr7FrZu7Ro29MqdObPntGt7L0Na0n9M33ZblqFDP7G/uuojE08oRtiu+vfr67fXdM1G1fNb3Iwp6vK89rZL6403ZlDKcWCPpel2TXswvPltVVIEbrnlll49n+ndq6ffSvguP/zIY3Bmas/JfQms+6oZavtF3STMZjqtE0zn4SGEohaYprtvHyv7DhYLC/PqYKSvwtPSvLlrv3CVg5vRipUrlcX6+nEwou+iGOlHQhJCIEkE0GDU7qeqlqoBLan1bAGuJIRl0/lVvG3IoM8GK+HkLc+gG385xsZgBLH023gIr1vr2ulJfTCeBcvBaJl757VKFSteq9v7/7ly/WvlzqzZc5huQDQoP6YdajBqkOZvcjOHtukwp9ejWdBkypRx6xYXBIfttxQ3NxthF1j7YdtSNrBDh+00OTtRjAJrjCq1YkVC1G9ycHL3rI1mT5s6mfzAHLDUVnTlykXYPzb0tHWrVqNGfZawAHPi5I0bXff3+nEworNBiMnreQslRwhchwRYQ65D3dB9NJigvE/xPsEMrnnWCChUjC6erhMM1abFyO2gGoQ32N69+/gxzUqfQoX8WPi4oZatbefExoI0iQ5GafOmuByMDM9rgjd6HZJhgn8unwB6wQ3dsjU+bCbF8Z5xqLUEcK00WwTOq03OVav4WqMAf6+3wG/XtE20XPnyfl9KxMU2Q73PnTv3enMwgmcQXit+74oICIHrgYA54UV/g+VgpGwSCiADMJGsrweYXvu4a9du0+UlvHRpr2KJzVQRjGDrZFTGOGSGdpwxwxWdIYkORoltcMrIE8YG3xd9LSaVdDpYCXSCTZs269pwbvM7bGvhkEnsQTHfv193h6Vh9kYdLek8gQKqdFwn/klcndCOunIVMywoNlFdZ9pPiGKU9u+RtDAdEOA32Xr3rIpqK1uklQkPT3q7XW80Y1kQ1myWSie92nRaQ+zcuWbLGUfNw8DS3DgV2Rm2TkZllCfCvehr4Y2RdAcjXVuaSixclODyj2uOQzfkRHWBzeSVQ7EqZdkYNVFVpV9h7c6vuhCsH1QmEFbLon0RBQD9xsz3lWYBpkXXv64cjMAiipGvZ0PyhUAiCFy6fFnNxKsyMTFRQfnZx46P8xcs1O0oXqJ4Br8xVbR0aCWuXLm6YH4CCiIYhRULS3oXMVqsW7ueeipXdhqjpXXrlsWKFdOXDskf02jkJm2GySxZsuguByvBNI2uCsWrQIH8+vD6SZg7rgC5erXqQe/74iWugAhR0U5fSkzYmbNplL2uHIzoryhGQX8IpcLrkQD7lJlzXg7ND35JLViw6OTJk1qM9WI6fb0lrly5vG59gud1gwYxxPZOIgSG/69Hf6u2O2AfFYe13Xzzzc2aNdHCFSqEYDhgdiebN3++7mPlKgEGFdQ1eCZQSRctdO1pqj5YSpxMZV4TD5H/ieqp9HLVn3r16mbLljW4fWOL359++pk6+UnlxCaqrt6qVQuWGqh0qNpEbTjLqjQbOHJKCHghwOTL/PkL+ZsB643bfsP2ljgKqPBrqsAvv0xwnXOfZfFW/vz5wsKKOrEhMVTv3Lnr0KHDV69e4RITJ00yW0DQXrYvJYfVWHXr1lb1mwIhk96zZy//WOOvoJ0+fRondHPHKDYADwtboBhDGG516kQ6cU2F6rFjx2Jj527ajOPvVrVdOdx69uqDf3GePLnxwvYbfaBli+bDho1QtJ34baT9+wKWffv279q9m7AKMJ89J9Zs8/59BwgToJ/nggULhIUVNQUcpuPi4tzL0FhSd+POnTvX/PGHWRDj6I2usA6uIRwVwTwVSmkLBL3lM33EQkyYAP295qmOiqoXQN/Z+petjjfz2bJ19uw5BIuikqFDh2fOlDlP3jz58+WrW7eO/euIvVmaNGk8ZswPFAxJm6g9VVGM7PnIWSFgJcCPvP978UV+UltPGMcoNBadhk2mnLzrVfQUo6Z/JR/r2k0f//jDmORwR9D1p2KCmIEjR306ZsxYmzZMmDiJf6bAf/7z/BPdHjdzvKbZ4rd2HS+DzfTpM/hHEUxH7LJpP2ywaReBvJEPmR/TDMlPdu9hBoYw6Vme5+7dn3j+uQGmgJM0IQrfeusdc1sVsxTDNv9UTqOGDRi5tX5giqX3NHYyGwgEjury8KO6j0wv+tVgtLBOoE517/E0qr/O0YkhH32s0l99+Xl0tF1wVODjS6cUo+vNwQhEohjpZ0YSQsApAbQi/CEKFCjgtwAxdrF8hIUVLestOJ5n8WUOgu0yZ4ePC7/aPYuHRg42A7Qi9t/1DKaMYcMyXp4/f4GdNM6fP+9wN1mikys/YqoCl1kbP+VZg1O1qv/lV6hNDz/80IYNGzAyZc0a5LmPVLmJPHjZsmWDjIlFGW90e06cOIGxDbtdZK1Adv84cODAX+fPK/i6Tkvi6NE4tl2Ljok274tFJl0f8urwC+Hc2XNHeRbj4lihFlhnc2TPrjmbN5GgaDSAmxgZGem3ZnZna9myBS5QfuN7+a0q3QmIYpTubpk0OJUJEGVk29ZNNIJfZhavCM9hWw0zvJsyZ3b0XevbpxfVMirw4celqt+slkxGZcL7BWWPsFRG6ePysNq+bTO99iSsmVBUYcEpGx5I+or+YrkIcxP8CkeefCCbliEqJ5McM9NSXB+iHMyZPZMaLM+AFkhfiWZNm2CnoeNA0FhM2nSHQ+ZwmeR1MmXp2f0iRQqzWR53zV2Pax5a1akAqmu5z151+GXxvETazzEh6CdHPcm68QoFdlMEnDyKuqBKUOT999/lCadalUNCXYtMznLo5A5S5KMhgyniRNjShvR+6Ohlnd47Ke0XAsElkHxvCl5GfFRrdcJsvNdMUyA00r666ZnvmWNPgIGBj1eZxFaVfI+B1+YlayZqigrSaEIw01z92mHgASMU+Wv1uDqk0zqRKdQHJU8IljurUGgglrNODl2PuLeHPLF1Ip/YIk6al/ZlvL8g0n67pYVCQAgIASEgBJKVgDa6JOtVpPK0RiDjK6+8ktbaJO0RAkIg7RPAxoCHTXh46ebNmqppkbTf5hBoYf78+S9fudKnd6/r86d8it1BfPhy587dvn275AjglGK9kAsFRuBG0YgDAyelhIAQEAJCQAgIgdAjIFNpoXdPpUdCQAgIASEgBIRAgAREMQoQnBQTAkJACAgBISAEQo+AKEahd0+lR0JACAgBISAEhECABEQxChCcFBMCQkAICAEhIARCj4AoRqF3T6VHQkAICAEhIASEQIAERDEKEJwUEwJCQAgIASEgBEKPgChGoXdPpUdCQAgIASEgBIRAgAREMQoQnBQTAkJACAgBISAEQo+AKEahd0+lR0JACAgBISAEhECABEQxChCcFBMCQkAICAEhIARCj4AoRqF3T6VHQkAICAEhIASEQIAERDEKEJwUEwJCQAgIASEgBEKPgChGoXdPpUdCQAgIASEgBIRAgAREMQoQnBQTAkJACAgBISAEQo+AKEahd0+lR0JACAgBISAEhECABEQxChCcFBMCQkAICAEhIARCj4AoRqF3T6VHQkAICAEhIASEQIAERDEKEJwUEwJCQAgIASEgBEKPgChGoXdPpUdCQAgIASEgBIRAgAREMQoQnBQTAkJACAgBISAEQo+AKEahd0+lR0JACAgBISAEhECABEQxChCcFBMCQkAICAEhIARCj4AoRqF3T6VHQkAICAEhIASEQIAERDEKEJwUEwJCQAgIASEgBEKPgChGoXdPpUdCQAgIASEgBIRAgAREMQoQnBQTAkJACAgBISAEQo+AKEahd0+lR0JACAgBISAEhECABEQxChCcFBMCQkAICAEhIARCj4AoRqF3T6VHQkAICAEhIASEQIAERDEKEJwUEwJCQAgIASEgBEKPgChGoXdPpUdCQAgIASEgBIRAgAREMQoQnBQTAkJACAgBISAEQo+AKEahd0+lR0JACAgBISAEhECABEQxChCcFBMCQkAICAEhIARCj4AoRqF3T6VHQkAICAEhIASEQIAERDEKEJwUEwJCQAgIASEgBEKPgChGoXdPpUdCQAgIASEgBIRAgAT+H90UEdSoHW7MAAAAAElFTkSuQmCC)\n"
      ],
      "metadata": {
        "id": "JWcxY_x-HuD-"
      }
    },
    {
      "cell_type": "markdown",
      "source": [
        "# **About the Data**\n",
        "\n",
        "This dataset classifies loan applicants described by a set of attributes as good or bad credit risks.\n",
        "\n",
        "To load the training data in your jupyter notebook, use the below command:\n",
        "\n",
        "import pandas as pd\n",
        "\n",
        "audit_data = pd.read_csv(\"https://raw.githubusercontent.com/dphi-official/Datasets/master/credit_risk/training_set_labels.csv\" )"
      ],
      "metadata": {
        "id": "0nZMcFxmIKJs"
      }
    },
    {
      "cell_type": "markdown",
      "source": [
        "# **Data Description**\n",
        "\n",
        "There are 20 attributes in the dataset. Some of them are mentioned below:\n",
        "\n",
        "* checking_status: Status of the existing checking account\n",
        "* duration: Duration in month\n",
        "*  credit_history: Credit history of the applicant\n",
        "* purpose: Purpose of taking the earlier loans\n",
        "* employment: Present employment since\n",
        "* installment_commitment: Installment rate in percentage of disposable income\n",
        "* personal_status: Personal status and sex\n",
        "* other_parties: Other debtors/guarantors\n",
        "* residence_since: Present residence since\n",
        "* other_payment_plans: Other installment plans\n",
        "* existing_credits: Number of existing credits at this bank\n",
        "* class: The target variable(good, bad)"
      ],
      "metadata": {
        "id": "GSKsFqPaIPp5"
      }
    },
    {
      "cell_type": "markdown",
      "source": [
        "# **Test Dataset**\n",
        "\n",
        "Load the test data (name it as test_data). You can load the data using the below command.\n",
        "\n",
        "test_data = pd.read_csv('https://raw.githubusercontent.com/dphi-official/Datasets/master/credit_risk/testing_set_labels.csv')\n",
        "\n",
        "Here the target column is deliberately not there as you need to predict it"
      ],
      "metadata": {
        "id": "jfbOdb1hIwb_"
      }
    },
    {
      "cell_type": "markdown",
      "source": [
        "# **Loading Libraries**"
      ],
      "metadata": {
        "id": "9M5l5XwCIz6t"
      }
    },
    {
      "cell_type": "code",
      "source": [
        "import pandas as pd\n",
        "import numpy as np\n",
        "import seaborn as sns\n",
        "import matplotlib.pyplot as plt\n",
        "%matplotlib inline\n",
        "from sklearn.model_selection import train_test_split, KFold, cross_val_score, GridSearchCV\n",
        "from sklearn.metrics import mean_squared_error, r2_score, accuracy_score, confusion_matrix,classification_report, fbeta_score # to evaluate our model\n",
        "from sklearn.ensemble import RandomForestClassifier\n",
        "from sklearn.linear_model import LogisticRegression, LinearRegression, Ridge, Lasso, ElasticNet\n",
        "from sklearn.neighbors import KNeighborsClassifier\n",
        "from sklearn.tree import DecisionTreeClassifier\n",
        "from sklearn.discriminant_analysis import LinearDiscriminantAnalysis\n",
        "\n",
        "pd.set_option('display.max_column',None)\n",
        "pd.set_option('display.max_row',None)\n"
      ],
      "metadata": {
        "id": "C3eLcAc2IAah"
      },
      "execution_count": null,
      "outputs": []
    },
    {
      "cell_type": "code",
      "source": [
        "import plotly.express as px\n",
        "from matplotlib import style\n",
        "#styling the outputs\n",
        "font={'family':'sans-serif',\n",
        "      'weight':'bold',\n",
        "      'size':18}\n",
        "plt.rc('font',**font)\n",
        "style.use('fivethirtyeight')\n"
      ],
      "metadata": {
        "id": "f3wKKpblfPTv"
      },
      "execution_count": null,
      "outputs": []
    },
    {
      "cell_type": "markdown",
      "source": [
        "# **Loading Data**"
      ],
      "metadata": {
        "id": "yiJhA9B6JFa3"
      }
    },
    {
      "cell_type": "code",
      "source": [
        "audit_data = pd.read_csv(\"https://raw.githubusercontent.com/dphi-official/Datasets/master/credit_risk/training_set_labels.csv\")\n"
      ],
      "metadata": {
        "id": "dgfjA18-JF4c"
      },
      "execution_count": null,
      "outputs": []
    },
    {
      "cell_type": "code",
      "source": [
        "test_data = pd.read_csv('https://raw.githubusercontent.com/dphi-official/Datasets/master/credit_risk/testing_set_labels.csv')\n"
      ],
      "metadata": {
        "id": "cSXGcRbWxUc6"
      },
      "execution_count": null,
      "outputs": []
    },
    {
      "cell_type": "code",
      "source": [
        "audit_data.head()"
      ],
      "metadata": {
        "colab": {
          "base_uri": "https://localhost:8080/",
          "height": 340
        },
        "id": "0tFfZWO3JLAm",
        "outputId": "2f0564c6-a687-4c12-d792-9e872c438c3e"
      },
      "execution_count": null,
      "outputs": [
        {
          "output_type": "execute_result",
          "data": {
            "text/plain": [
              "  checking_status  duration                    credit_history  \\\n",
              "0   'no checking'        18  'critical/other existing credit'   \n",
              "1            '<0'        24                   'existing paid'   \n",
              "2   'no checking'        36             'no credits/all paid'   \n",
              "3   'no checking'        15                   'existing paid'   \n",
              "4            '<0'        21                   'existing paid'   \n",
              "\n",
              "               purpose  credit_amount savings_status employment  \\\n",
              "0             radio/tv           1800         '<100'   '1<=X<4'   \n",
              "1             radio/tv           2439         '<100'       '<1'   \n",
              "2              repairs           2613         '<100'   '1<=X<4'   \n",
              "3            education           4623   '100<=X<500'   '1<=X<4'   \n",
              "4  furniture/equipment           3599         '<100'   '4<=X<7'   \n",
              "\n",
              "   installment_commitment       personal_status other_parties  \\\n",
              "0                       4         'male single'          none   \n",
              "1                       4  'female div/dep/mar'          none   \n",
              "2                       4         'male single'          none   \n",
              "3                       3         'male single'          none   \n",
              "4                       1  'female div/dep/mar'          none   \n",
              "\n",
              "   residence_since property_magnitude  age other_payment_plans housing  \\\n",
              "0                2                car   24                none     own   \n",
              "1                4      'real estate'   35                none     own   \n",
              "2                2                car   27                none     own   \n",
              "3                2   'life insurance'   40                none     own   \n",
              "4                4                car   26                none    rent   \n",
              "\n",
              "   existing_credits                          job  num_dependents  \\\n",
              "0                 2                      skilled               1   \n",
              "1                 1                      skilled               1   \n",
              "2                 2                      skilled               1   \n",
              "3                 1  'high qualif/self emp/mgmt'               1   \n",
              "4                 1         'unskilled resident'               1   \n",
              "\n",
              "  own_telephone foreign_worker class  \n",
              "0          none            yes  good  \n",
              "1           yes            yes   bad  \n",
              "2          none            yes  good  \n",
              "3           yes            yes   bad  \n",
              "4          none            yes  good  "
            ],
            "text/html": [
              "\n",
              "  <div id=\"df-e6b56fef-fcc3-4434-bf2f-20aa773703d6\">\n",
              "    <div class=\"colab-df-container\">\n",
              "      <div>\n",
              "<style scoped>\n",
              "    .dataframe tbody tr th:only-of-type {\n",
              "        vertical-align: middle;\n",
              "    }\n",
              "\n",
              "    .dataframe tbody tr th {\n",
              "        vertical-align: top;\n",
              "    }\n",
              "\n",
              "    .dataframe thead th {\n",
              "        text-align: right;\n",
              "    }\n",
              "</style>\n",
              "<table border=\"1\" class=\"dataframe\">\n",
              "  <thead>\n",
              "    <tr style=\"text-align: right;\">\n",
              "      <th></th>\n",
              "      <th>checking_status</th>\n",
              "      <th>duration</th>\n",
              "      <th>credit_history</th>\n",
              "      <th>purpose</th>\n",
              "      <th>credit_amount</th>\n",
              "      <th>savings_status</th>\n",
              "      <th>employment</th>\n",
              "      <th>installment_commitment</th>\n",
              "      <th>personal_status</th>\n",
              "      <th>other_parties</th>\n",
              "      <th>residence_since</th>\n",
              "      <th>property_magnitude</th>\n",
              "      <th>age</th>\n",
              "      <th>other_payment_plans</th>\n",
              "      <th>housing</th>\n",
              "      <th>existing_credits</th>\n",
              "      <th>job</th>\n",
              "      <th>num_dependents</th>\n",
              "      <th>own_telephone</th>\n",
              "      <th>foreign_worker</th>\n",
              "      <th>class</th>\n",
              "    </tr>\n",
              "  </thead>\n",
              "  <tbody>\n",
              "    <tr>\n",
              "      <th>0</th>\n",
              "      <td>'no checking'</td>\n",
              "      <td>18</td>\n",
              "      <td>'critical/other existing credit'</td>\n",
              "      <td>radio/tv</td>\n",
              "      <td>1800</td>\n",
              "      <td>'&lt;100'</td>\n",
              "      <td>'1&lt;=X&lt;4'</td>\n",
              "      <td>4</td>\n",
              "      <td>'male single'</td>\n",
              "      <td>none</td>\n",
              "      <td>2</td>\n",
              "      <td>car</td>\n",
              "      <td>24</td>\n",
              "      <td>none</td>\n",
              "      <td>own</td>\n",
              "      <td>2</td>\n",
              "      <td>skilled</td>\n",
              "      <td>1</td>\n",
              "      <td>none</td>\n",
              "      <td>yes</td>\n",
              "      <td>good</td>\n",
              "    </tr>\n",
              "    <tr>\n",
              "      <th>1</th>\n",
              "      <td>'&lt;0'</td>\n",
              "      <td>24</td>\n",
              "      <td>'existing paid'</td>\n",
              "      <td>radio/tv</td>\n",
              "      <td>2439</td>\n",
              "      <td>'&lt;100'</td>\n",
              "      <td>'&lt;1'</td>\n",
              "      <td>4</td>\n",
              "      <td>'female div/dep/mar'</td>\n",
              "      <td>none</td>\n",
              "      <td>4</td>\n",
              "      <td>'real estate'</td>\n",
              "      <td>35</td>\n",
              "      <td>none</td>\n",
              "      <td>own</td>\n",
              "      <td>1</td>\n",
              "      <td>skilled</td>\n",
              "      <td>1</td>\n",
              "      <td>yes</td>\n",
              "      <td>yes</td>\n",
              "      <td>bad</td>\n",
              "    </tr>\n",
              "    <tr>\n",
              "      <th>2</th>\n",
              "      <td>'no checking'</td>\n",
              "      <td>36</td>\n",
              "      <td>'no credits/all paid'</td>\n",
              "      <td>repairs</td>\n",
              "      <td>2613</td>\n",
              "      <td>'&lt;100'</td>\n",
              "      <td>'1&lt;=X&lt;4'</td>\n",
              "      <td>4</td>\n",
              "      <td>'male single'</td>\n",
              "      <td>none</td>\n",
              "      <td>2</td>\n",
              "      <td>car</td>\n",
              "      <td>27</td>\n",
              "      <td>none</td>\n",
              "      <td>own</td>\n",
              "      <td>2</td>\n",
              "      <td>skilled</td>\n",
              "      <td>1</td>\n",
              "      <td>none</td>\n",
              "      <td>yes</td>\n",
              "      <td>good</td>\n",
              "    </tr>\n",
              "    <tr>\n",
              "      <th>3</th>\n",
              "      <td>'no checking'</td>\n",
              "      <td>15</td>\n",
              "      <td>'existing paid'</td>\n",
              "      <td>education</td>\n",
              "      <td>4623</td>\n",
              "      <td>'100&lt;=X&lt;500'</td>\n",
              "      <td>'1&lt;=X&lt;4'</td>\n",
              "      <td>3</td>\n",
              "      <td>'male single'</td>\n",
              "      <td>none</td>\n",
              "      <td>2</td>\n",
              "      <td>'life insurance'</td>\n",
              "      <td>40</td>\n",
              "      <td>none</td>\n",
              "      <td>own</td>\n",
              "      <td>1</td>\n",
              "      <td>'high qualif/self emp/mgmt'</td>\n",
              "      <td>1</td>\n",
              "      <td>yes</td>\n",
              "      <td>yes</td>\n",
              "      <td>bad</td>\n",
              "    </tr>\n",
              "    <tr>\n",
              "      <th>4</th>\n",
              "      <td>'&lt;0'</td>\n",
              "      <td>21</td>\n",
              "      <td>'existing paid'</td>\n",
              "      <td>furniture/equipment</td>\n",
              "      <td>3599</td>\n",
              "      <td>'&lt;100'</td>\n",
              "      <td>'4&lt;=X&lt;7'</td>\n",
              "      <td>1</td>\n",
              "      <td>'female div/dep/mar'</td>\n",
              "      <td>none</td>\n",
              "      <td>4</td>\n",
              "      <td>car</td>\n",
              "      <td>26</td>\n",
              "      <td>none</td>\n",
              "      <td>rent</td>\n",
              "      <td>1</td>\n",
              "      <td>'unskilled resident'</td>\n",
              "      <td>1</td>\n",
              "      <td>none</td>\n",
              "      <td>yes</td>\n",
              "      <td>good</td>\n",
              "    </tr>\n",
              "  </tbody>\n",
              "</table>\n",
              "</div>\n",
              "      <button class=\"colab-df-convert\" onclick=\"convertToInteractive('df-e6b56fef-fcc3-4434-bf2f-20aa773703d6')\"\n",
              "              title=\"Convert this dataframe to an interactive table.\"\n",
              "              style=\"display:none;\">\n",
              "        \n",
              "  <svg xmlns=\"http://www.w3.org/2000/svg\" height=\"24px\"viewBox=\"0 0 24 24\"\n",
              "       width=\"24px\">\n",
              "    <path d=\"M0 0h24v24H0V0z\" fill=\"none\"/>\n",
              "    <path d=\"M18.56 5.44l.94 2.06.94-2.06 2.06-.94-2.06-.94-.94-2.06-.94 2.06-2.06.94zm-11 1L8.5 8.5l.94-2.06 2.06-.94-2.06-.94L8.5 2.5l-.94 2.06-2.06.94zm10 10l.94 2.06.94-2.06 2.06-.94-2.06-.94-.94-2.06-.94 2.06-2.06.94z\"/><path d=\"M17.41 7.96l-1.37-1.37c-.4-.4-.92-.59-1.43-.59-.52 0-1.04.2-1.43.59L10.3 9.45l-7.72 7.72c-.78.78-.78 2.05 0 2.83L4 21.41c.39.39.9.59 1.41.59.51 0 1.02-.2 1.41-.59l7.78-7.78 2.81-2.81c.8-.78.8-2.07 0-2.86zM5.41 20L4 18.59l7.72-7.72 1.47 1.35L5.41 20z\"/>\n",
              "  </svg>\n",
              "      </button>\n",
              "      \n",
              "  <style>\n",
              "    .colab-df-container {\n",
              "      display:flex;\n",
              "      flex-wrap:wrap;\n",
              "      gap: 12px;\n",
              "    }\n",
              "\n",
              "    .colab-df-convert {\n",
              "      background-color: #E8F0FE;\n",
              "      border: none;\n",
              "      border-radius: 50%;\n",
              "      cursor: pointer;\n",
              "      display: none;\n",
              "      fill: #1967D2;\n",
              "      height: 32px;\n",
              "      padding: 0 0 0 0;\n",
              "      width: 32px;\n",
              "    }\n",
              "\n",
              "    .colab-df-convert:hover {\n",
              "      background-color: #E2EBFA;\n",
              "      box-shadow: 0px 1px 2px rgba(60, 64, 67, 0.3), 0px 1px 3px 1px rgba(60, 64, 67, 0.15);\n",
              "      fill: #174EA6;\n",
              "    }\n",
              "\n",
              "    [theme=dark] .colab-df-convert {\n",
              "      background-color: #3B4455;\n",
              "      fill: #D2E3FC;\n",
              "    }\n",
              "\n",
              "    [theme=dark] .colab-df-convert:hover {\n",
              "      background-color: #434B5C;\n",
              "      box-shadow: 0px 1px 3px 1px rgba(0, 0, 0, 0.15);\n",
              "      filter: drop-shadow(0px 1px 2px rgba(0, 0, 0, 0.3));\n",
              "      fill: #FFFFFF;\n",
              "    }\n",
              "  </style>\n",
              "\n",
              "      <script>\n",
              "        const buttonEl =\n",
              "          document.querySelector('#df-e6b56fef-fcc3-4434-bf2f-20aa773703d6 button.colab-df-convert');\n",
              "        buttonEl.style.display =\n",
              "          google.colab.kernel.accessAllowed ? 'block' : 'none';\n",
              "\n",
              "        async function convertToInteractive(key) {\n",
              "          const element = document.querySelector('#df-e6b56fef-fcc3-4434-bf2f-20aa773703d6');\n",
              "          const dataTable =\n",
              "            await google.colab.kernel.invokeFunction('convertToInteractive',\n",
              "                                                     [key], {});\n",
              "          if (!dataTable) return;\n",
              "\n",
              "          const docLinkHtml = 'Like what you see? Visit the ' +\n",
              "            '<a target=\"_blank\" href=https://colab.research.google.com/notebooks/data_table.ipynb>data table notebook</a>'\n",
              "            + ' to learn more about interactive tables.';\n",
              "          element.innerHTML = '';\n",
              "          dataTable['output_type'] = 'display_data';\n",
              "          await google.colab.output.renderOutput(dataTable, element);\n",
              "          const docLink = document.createElement('div');\n",
              "          docLink.innerHTML = docLinkHtml;\n",
              "          element.appendChild(docLink);\n",
              "        }\n",
              "      </script>\n",
              "    </div>\n",
              "  </div>\n",
              "  "
            ]
          },
          "metadata": {},
          "execution_count": 145
        }
      ]
    },
    {
      "cell_type": "code",
      "source": [
        "##check for Imbalance data\n",
        "#count plot on single categorical variable\n",
        "sns.countplot(x = 'class',data = audit_data)\n",
        "\n",
        "#show the plot\n",
        "plt.tight_layout()"
      ],
      "metadata": {
        "colab": {
          "base_uri": "https://localhost:8080/",
          "height": 289
        },
        "id": "NPJ5x8pWimDE",
        "outputId": "761c96da-5f43-43d8-bbdb-6dacecc61de1"
      },
      "execution_count": null,
      "outputs": [
        {
          "output_type": "display_data",
          "data": {
            "text/plain": [
              "<Figure size 432x288 with 1 Axes>"
            ],
            "image/png": "[encoded data removed]"
          },
          "metadata": {}
        }
      ]
    },
    {
      "cell_type": "code",
      "source": [
        "# checking Unique Values for each Column\n",
        "for col in audit_data.columns:\n",
        "    print(col,':',audit_data[col].nunique())\n",
        "    print(audit_data[col].unique())\n",
        "    print('---'*3)"
      ],
      "metadata": {
        "colab": {
          "base_uri": "https://localhost:8080/"
        },
        "id": "nOlS0ZFi5D_e",
        "outputId": "275ee8a0-2749-4c8e-fcf0-f6fc9038ea2a"
      },
      "execution_count": null,
      "outputs": [
        {
          "output_type": "stream",
          "name": "stdout",
          "text": [
            "checking_status : 4\n",
            "[\"'no checking'\" \"'<0'\" \"'0<=X<200'\" \"'>=200'\"]\n",
            "---------\n",
            "duration : 32\n",
            "[18 24 36 15 21 12 48  9  4 45 30  7  6 42  8 10 39 20  5 27 11 60 33 14\n",
            " 28 13 40 47 22 16 54 26]\n",
            "---------\n",
            "credit_history : 5\n",
            "[\"'critical/other existing credit'\" \"'existing paid'\"\n",
            " \"'no credits/all paid'\" \"'all paid'\" \"'delayed previously'\"]\n",
            "---------\n",
            "purpose : 10\n",
            "['radio/tv' 'repairs' 'education' 'furniture/equipment' 'business'\n",
            " \"'used car'\" \"'new car'\" 'retraining' 'other' \"'domestic appliance'\"]\n",
            "---------\n",
            "credit_amount : 751\n",
            "[ 1800  2439  2613  4623  3599  5801  2659  4844  7814  2462  3617  6758\n",
            "  3621   458  2923  3590  1131  1544  2825  1845  6948  1240  1037  9960\n",
            "  1474  1295  1313  1842  2910  2022  1239  4811  4280   339  3181   730\n",
            "  4308  1740 12612  2375   428  2991   959  6568  1919  1200  2600  1409\n",
            "  4351  1498  1449  1282  4675  4370  5096  1526  4473   590  1414  3835\n",
            "  1533   929   683  3914  1249  2647  6615  3398  8072  1330  1264  7166\n",
            "  1103  5771  2503   571  6199  1352  1403  3399  3578   781  2141  8588\n",
            "  1908  1164  1928  9857  7057  1275  1048  2522  1199  9277  3448  7865\n",
            "  3652  6458  1382  3780  1288  8613   741  1082  1554  4771   731 15653\n",
            "  1024   874  2848  1154   585  2039  2169   936  4591   652  2578  6110\n",
            "  4057  1804  6419  1185  3939  3643  2759   932  1209  2835  3380   701\n",
            "  4151  5954  3092  8358  3149  1881   947  6836   338  3016 15672  2145\n",
            "  1442  2764  3422  2132  1736  1501  1355   976  1620  1936   996  5129\n",
            "  7472  1393  1289  1126  1755  1412 10366  4611  5003  1333  3676 14179\n",
            "  2762  2325  6872  1546  2186  1957 11998  1950  2748  2445  1887  3812\n",
            "  2427  2473  6614  1924  1361   750  4297  1287  3249  1480   433  1867\n",
            "  5248 18424  4113   776  6304   902  3229  6579  7758  2288  2728  1941\n",
            "  3527  6187  5842  1076  1503   685  1262  2570  1913  4736  6204  5302\n",
            "  1318  2760  8978  2121  2246  5507  4165  1525   727  1007  3973  1471\n",
            "  1747  1530  9055  1344  1837   926  1169   601  9629  1893  4380   454\n",
            "  1338  4594  1864  7308  3074   766   763 11938  1360 11560  7824   717\n",
            "  3275  2214  2930  1494  2118 10222  1190  1657  2892  1977  2753  1820\n",
            "  2348  1901   753  7393  1381  2333  1797  1410  1935 10974  6403  2171\n",
            "  1337   806  1358  3905 10623  3001  5998  3488  2210   518  1056  2799\n",
            "  4686  1377  4272   937  2622  4530  1495  2679  3416   609 10961  3357\n",
            "  1938  3331  2394 12680  1597  3651  2788  3031  5381  2745  6313  1364\n",
            "  2251  4042  1366  2896  6681  3931  1345   931  2319  1107  2150  1819\n",
            "  3577  4746  1413  1493   907  1795  7127  1308   618  1520  5084  5742\n",
            "  1238  6078  3051  4933  2442  1766  2899  3552  1193   674   385  1347\n",
            "  1437   886  2606  2580   392  1743   900  1940  1979  1549  9283  5234\n",
            "   709 10127  7855  2299  1244   783  1101  2002  1236  2831  2331  2212\n",
            "  1301  2197  3965 10144  1376  8386  1537  6761  2101  1552  1750  1553\n",
            "  1808  4712  7418  7685  1469   846   250 11816 15857  3566 10875  1943\n",
            "  5152  9157  7432  3509  6416  4169  6842  1049  1835  2100  2629  1223\n",
            "  1068  1927  3059  1934  5965  2353  1478  5293  2424  1231  5493  3234\n",
            "   841  3123  2406  2820  2397  2631  3556  2116   639  1297  4788  4139\n",
            "  6143  8065  3496  1817  5511  3077  4526  8947  1237  2996  2329  3485\n",
            "   804  7485  1574  5433  8133  2978   672  2577  7409 10722  8471  3878\n",
            "  1538  8335  1228  1221  1453  3565  1512  1278  6560  1098  2463  1829\n",
            "  2751  1108  1322  3062  3441  1953  1961  5150  1422  2569  1582  3959\n",
            "  4870  1038  5324  3966  1925   888  5848  2146  3161  4657  2012  1283\n",
            "  1042  2028  1715   950  4281  2901  2301  2969  7596  3777  8086  7582\n",
            "  1207   754  3499  3850  1424  6148  3656  3349  2134  7228  1963  3060\n",
            "  1175  3763  6331  2743  1258  7721  4110  4020  3345  2520 13756  2389\n",
            "  1372  2671  8229  1201  1371  1343  4454   276  4817  3915  1568  1922\n",
            "  3757   999 11054  3021  1655  2124  1323  1445 12204  1534  6260  1136\n",
            "  3195  7374  2687  9271  3518  4583   790  1055  7476   802  3342  2063\n",
            "  1374  3160  2337  2697  2779  2384   797  5711  9034  2064  1113  3535\n",
            "   918  2957  3749  5743  3632   866  2032   836  3213  3844  7511  1569\n",
            "  1585   662   626  7882  1198  2360  2415 11328  6314  2483   951  1155\n",
            "  7980  1386  8858  1980  1311  4679  1603   894  6527  2223  1217  1851\n",
            "  3758  1050  3235  2221  3414  3832  1884  3972  2051  5117  1543  2292\n",
            "   882 14896  7763 12579   448  3804  2136  3711  1168  3384  2404  1203\n",
            "   666  1047  2133   983  6742  1592   760  1559   660  3863  1331  7238\n",
            "  1391  7629  2924  5800  1053  1577  2862 15945  2320  1987  2235  2675\n",
            "  3568  3017  3378  2390  6229  7678  1213   629 11590  1595  1721  3049\n",
            "  2181  3069  3368 14318  3104   700  6361  3612  1659  4576  2511  1768\n",
            " 14027  1484  7966   909  1158   640  4455   707  4843  3190  3394  1858\n",
            "  3990  2225  2273  1123  2359  9572  2515  1532  4796  2767  1680  2278\n",
            "  7119   697  4153   975  7408  3872  9566  4716  3124   409  1138  4006\n",
            "  6887   939  6967  6289  3079  4241  1388  3868  5804  1872  1995  5951\n",
            "  2775   960  2579  2058  5045  1316  6224  7297  2030  6468 11760  2142\n",
            "   682  2327 14782  2366  1224  3114  7174]\n",
            "---------\n",
            "savings_status : 5\n",
            "[\"'<100'\" \"'100<=X<500'\" \"'no known savings'\" \"'>=1000'\" \"'500<=X<1000'\"]\n",
            "---------\n",
            "employment : 5\n",
            "[\"'1<=X<4'\" \"'<1'\" \"'4<=X<7'\" \"'>=7'\" 'unemployed']\n",
            "---------\n",
            "installment_commitment : 4\n",
            "[4 3 1 2]\n",
            "---------\n",
            "personal_status : 4\n",
            "[\"'male single'\" \"'female div/dep/mar'\" \"'male mar/wid'\" \"'male div/sep'\"]\n",
            "---------\n",
            "other_parties : 3\n",
            "['none' 'guarantor' \"'co applicant'\"]\n",
            "---------\n",
            "residence_since : 4\n",
            "[2 4 3 1]\n",
            "---------\n",
            "property_magnitude : 4\n",
            "['car' \"'real estate'\" \"'life insurance'\" \"'no known property'\"]\n",
            "---------\n",
            "age : 53\n",
            "[24 35 27 40 26 49 28 33 38 22 31 42 34 23 39 25 20 37 61 45 46 30 47 44\n",
            " 29 21 65 54 48 32 66 43 75 57 41 63 51 36 67 74 53 52 58 55 60 62 70 64\n",
            " 56 50 68 59 19]\n",
            "---------\n",
            "other_payment_plans : 3\n",
            "['none' 'bank' 'stores']\n",
            "---------\n",
            "housing : 3\n",
            "['own' 'rent' \"'for free'\"]\n",
            "---------\n",
            "existing_credits : 4\n",
            "[2 1 3 4]\n",
            "---------\n",
            "job : 4\n",
            "['skilled' \"'high qualif/self emp/mgmt'\" \"'unskilled resident'\"\n",
            " \"'unemp/unskilled non res'\"]\n",
            "---------\n",
            "num_dependents : 2\n",
            "[1 2]\n",
            "---------\n",
            "own_telephone : 2\n",
            "['none' 'yes']\n",
            "---------\n",
            "foreign_worker : 2\n",
            "['yes' 'no']\n",
            "---------\n",
            "class : 2\n",
            "['good' 'bad']\n",
            "---------\n"
          ]
        }
      ]
    },
    {
      "cell_type": "code",
      "source": [
        "# Label Encoding\n",
        "from sklearn.preprocessing import LabelEncoder\n",
        "\n",
        "label_encod_list=['checking_status','credit_history','purpose','savings_status','employment','personal_status','other_parties','property_magnitude','other_payment_plans','housing','job','own_telephone','foreign_worker']\n",
        "\n",
        "for col in label_encod_list:\n",
        "    lenc=LabelEncoder()\n",
        "    audit_data[col]=lenc.fit_transform(audit_data[col])\n",
        "    test_data[col]=lenc.transform(test_data[col])\n",
        "    \n",
        "audit_data['class']=lenc.fit_transform(audit_data['class'])"
      ],
      "metadata": {
        "id": "Orx5G8qj35Oz"
      },
      "execution_count": null,
      "outputs": []
    },
    {
      "cell_type": "code",
      "source": [
        "audit_data.head()"
      ],
      "metadata": {
        "colab": {
          "base_uri": "https://localhost:8080/",
          "height": 270
        },
        "id": "kHkbqLYn4y7J",
        "outputId": "48923d3c-03dc-4b09-e652-69e3475f5baa"
      },
      "execution_count": null,
      "outputs": [
        {
          "output_type": "execute_result",
          "data": {
            "text/plain": [
              "   checking_status  duration  credit_history  purpose  credit_amount  \\\n",
              "0                3        18               1        7           1800   \n",
              "1                1        24               3        7           2439   \n",
              "2                3        36               4        8           2613   \n",
              "3                3        15               3        4           4623   \n",
              "4                1        21               3        5           3599   \n",
              "\n",
              "   savings_status  employment  installment_commitment  personal_status  \\\n",
              "0               2           0                       4                3   \n",
              "1               2           2                       4                0   \n",
              "2               2           0                       4                3   \n",
              "3               0           0                       3                3   \n",
              "4               2           1                       1                0   \n",
              "\n",
              "   other_parties  residence_since  property_magnitude  age  \\\n",
              "0              2                2                   3   24   \n",
              "1              2                4                   2   35   \n",
              "2              2                2                   3   27   \n",
              "3              2                2                   0   40   \n",
              "4              2                4                   3   26   \n",
              "\n",
              "   other_payment_plans  housing  existing_credits  job  num_dependents  \\\n",
              "0                    1        1                 2    3               1   \n",
              "1                    1        1                 1    3               1   \n",
              "2                    1        1                 2    3               1   \n",
              "3                    1        1                 1    0               1   \n",
              "4                    1        2                 1    2               1   \n",
              "\n",
              "   own_telephone  foreign_worker  class  \n",
              "0              0               1      1  \n",
              "1              1               1      0  \n",
              "2              0               1      1  \n",
              "3              1               1      0  \n",
              "4              0               1      1  "
            ],
            "text/html": [
              "\n",
              "  <div id=\"df-1396776a-d5d9-4f48-9b07-0abf025f5901\">\n",
              "    <div class=\"colab-df-container\">\n",
              "      <div>\n",
              "<style scoped>\n",
              "    .dataframe tbody tr th:only-of-type {\n",
              "        vertical-align: middle;\n",
              "    }\n",
              "\n",
              "    .dataframe tbody tr th {\n",
              "        vertical-align: top;\n",
              "    }\n",
              "\n",
              "    .dataframe thead th {\n",
              "        text-align: right;\n",
              "    }\n",
              "</style>\n",
              "<table border=\"1\" class=\"dataframe\">\n",
              "  <thead>\n",
              "    <tr style=\"text-align: right;\">\n",
              "      <th></th>\n",
              "      <th>checking_status</th>\n",
              "      <th>duration</th>\n",
              "      <th>credit_history</th>\n",
              "      <th>purpose</th>\n",
              "      <th>credit_amount</th>\n",
              "      <th>savings_status</th>\n",
              "      <th>employment</th>\n",
              "      <th>installment_commitment</th>\n",
              "      <th>personal_status</th>\n",
              "      <th>other_parties</th>\n",
              "      <th>residence_since</th>\n",
              "      <th>property_magnitude</th>\n",
              "      <th>age</th>\n",
              "      <th>other_payment_plans</th>\n",
              "      <th>housing</th>\n",
              "      <th>existing_credits</th>\n",
              "      <th>job</th>\n",
              "      <th>num_dependents</th>\n",
              "      <th>own_telephone</th>\n",
              "      <th>foreign_worker</th>\n",
              "      <th>class</th>\n",
              "    </tr>\n",
              "  </thead>\n",
              "  <tbody>\n",
              "    <tr>\n",
              "      <th>0</th>\n",
              "      <td>3</td>\n",
              "      <td>18</td>\n",
              "      <td>1</td>\n",
              "      <td>7</td>\n",
              "      <td>1800</td>\n",
              "      <td>2</td>\n",
              "      <td>0</td>\n",
              "      <td>4</td>\n",
              "      <td>3</td>\n",
              "      <td>2</td>\n",
              "      <td>2</td>\n",
              "      <td>3</td>\n",
              "      <td>24</td>\n",
              "      <td>1</td>\n",
              "      <td>1</td>\n",
              "      <td>2</td>\n",
              "      <td>3</td>\n",
              "      <td>1</td>\n",
              "      <td>0</td>\n",
              "      <td>1</td>\n",
              "      <td>1</td>\n",
              "    </tr>\n",
              "    <tr>\n",
              "      <th>1</th>\n",
              "      <td>1</td>\n",
              "      <td>24</td>\n",
              "      <td>3</td>\n",
              "      <td>7</td>\n",
              "      <td>2439</td>\n",
              "      <td>2</td>\n",
              "      <td>2</td>\n",
              "      <td>4</td>\n",
              "      <td>0</td>\n",
              "      <td>2</td>\n",
              "      <td>4</td>\n",
              "      <td>2</td>\n",
              "      <td>35</td>\n",
              "      <td>1</td>\n",
              "      <td>1</td>\n",
              "      <td>1</td>\n",
              "      <td>3</td>\n",
              "      <td>1</td>\n",
              "      <td>1</td>\n",
              "      <td>1</td>\n",
              "      <td>0</td>\n",
              "    </tr>\n",
              "    <tr>\n",
              "      <th>2</th>\n",
              "      <td>3</td>\n",
              "      <td>36</td>\n",
              "      <td>4</td>\n",
              "      <td>8</td>\n",
              "      <td>2613</td>\n",
              "      <td>2</td>\n",
              "      <td>0</td>\n",
              "      <td>4</td>\n",
              "      <td>3</td>\n",
              "      <td>2</td>\n",
              "      <td>2</td>\n",
              "      <td>3</td>\n",
              "      <td>27</td>\n",
              "      <td>1</td>\n",
              "      <td>1</td>\n",
              "      <td>2</td>\n",
              "      <td>3</td>\n",
              "      <td>1</td>\n",
              "      <td>0</td>\n",
              "      <td>1</td>\n",
              "      <td>1</td>\n",
              "    </tr>\n",
              "    <tr>\n",
              "      <th>3</th>\n",
              "      <td>3</td>\n",
              "      <td>15</td>\n",
              "      <td>3</td>\n",
              "      <td>4</td>\n",
              "      <td>4623</td>\n",
              "      <td>0</td>\n",
              "      <td>0</td>\n",
              "      <td>3</td>\n",
              "      <td>3</td>\n",
              "      <td>2</td>\n",
              "      <td>2</td>\n",
              "      <td>0</td>\n",
              "      <td>40</td>\n",
              "      <td>1</td>\n",
              "      <td>1</td>\n",
              "      <td>1</td>\n",
              "      <td>0</td>\n",
              "      <td>1</td>\n",
              "      <td>1</td>\n",
              "      <td>1</td>\n",
              "      <td>0</td>\n",
              "    </tr>\n",
              "    <tr>\n",
              "      <th>4</th>\n",
              "      <td>1</td>\n",
              "      <td>21</td>\n",
              "      <td>3</td>\n",
              "      <td>5</td>\n",
              "      <td>3599</td>\n",
              "      <td>2</td>\n",
              "      <td>1</td>\n",
              "      <td>1</td>\n",
              "      <td>0</td>\n",
              "      <td>2</td>\n",
              "      <td>4</td>\n",
              "      <td>3</td>\n",
              "      <td>26</td>\n",
              "      <td>1</td>\n",
              "      <td>2</td>\n",
              "      <td>1</td>\n",
              "      <td>2</td>\n",
              "      <td>1</td>\n",
              "      <td>0</td>\n",
              "      <td>1</td>\n",
              "      <td>1</td>\n",
              "    </tr>\n",
              "  </tbody>\n",
              "</table>\n",
              "</div>\n",
              "      <button class=\"colab-df-convert\" onclick=\"convertToInteractive('df-1396776a-d5d9-4f48-9b07-0abf025f5901')\"\n",
              "              title=\"Convert this dataframe to an interactive table.\"\n",
              "              style=\"display:none;\">\n",
              "        \n",
              "  <svg xmlns=\"http://www.w3.org/2000/svg\" height=\"24px\"viewBox=\"0 0 24 24\"\n",
              "       width=\"24px\">\n",
              "    <path d=\"M0 0h24v24H0V0z\" fill=\"none\"/>\n",
              "    <path d=\"M18.56 5.44l.94 2.06.94-2.06 2.06-.94-2.06-.94-.94-2.06-.94 2.06-2.06.94zm-11 1L8.5 8.5l.94-2.06 2.06-.94-2.06-.94L8.5 2.5l-.94 2.06-2.06.94zm10 10l.94 2.06.94-2.06 2.06-.94-2.06-.94-.94-2.06-.94 2.06-2.06.94z\"/><path d=\"M17.41 7.96l-1.37-1.37c-.4-.4-.92-.59-1.43-.59-.52 0-1.04.2-1.43.59L10.3 9.45l-7.72 7.72c-.78.78-.78 2.05 0 2.83L4 21.41c.39.39.9.59 1.41.59.51 0 1.02-.2 1.41-.59l7.78-7.78 2.81-2.81c.8-.78.8-2.07 0-2.86zM5.41 20L4 18.59l7.72-7.72 1.47 1.35L5.41 20z\"/>\n",
              "  </svg>\n",
              "      </button>\n",
              "      \n",
              "  <style>\n",
              "    .colab-df-container {\n",
              "      display:flex;\n",
              "      flex-wrap:wrap;\n",
              "      gap: 12px;\n",
              "    }\n",
              "\n",
              "    .colab-df-convert {\n",
              "      background-color: #E8F0FE;\n",
              "      border: none;\n",
              "      border-radius: 50%;\n",
              "      cursor: pointer;\n",
              "      display: none;\n",
              "      fill: #1967D2;\n",
              "      height: 32px;\n",
              "      padding: 0 0 0 0;\n",
              "      width: 32px;\n",
              "    }\n",
              "\n",
              "    .colab-df-convert:hover {\n",
              "      background-color: #E2EBFA;\n",
              "      box-shadow: 0px 1px 2px rgba(60, 64, 67, 0.3), 0px 1px 3px 1px rgba(60, 64, 67, 0.15);\n",
              "      fill: #174EA6;\n",
              "    }\n",
              "\n",
              "    [theme=dark] .colab-df-convert {\n",
              "      background-color: #3B4455;\n",
              "      fill: #D2E3FC;\n",
              "    }\n",
              "\n",
              "    [theme=dark] .colab-df-convert:hover {\n",
              "      background-color: #434B5C;\n",
              "      box-shadow: 0px 1px 3px 1px rgba(0, 0, 0, 0.15);\n",
              "      filter: drop-shadow(0px 1px 2px rgba(0, 0, 0, 0.3));\n",
              "      fill: #FFFFFF;\n",
              "    }\n",
              "  </style>\n",
              "\n",
              "      <script>\n",
              "        const buttonEl =\n",
              "          document.querySelector('#df-1396776a-d5d9-4f48-9b07-0abf025f5901 button.colab-df-convert');\n",
              "        buttonEl.style.display =\n",
              "          google.colab.kernel.accessAllowed ? 'block' : 'none';\n",
              "\n",
              "        async function convertToInteractive(key) {\n",
              "          const element = document.querySelector('#df-1396776a-d5d9-4f48-9b07-0abf025f5901');\n",
              "          const dataTable =\n",
              "            await google.colab.kernel.invokeFunction('convertToInteractive',\n",
              "                                                     [key], {});\n",
              "          if (!dataTable) return;\n",
              "\n",
              "          const docLinkHtml = 'Like what you see? Visit the ' +\n",
              "            '<a target=\"_blank\" href=https://colab.research.google.com/notebooks/data_table.ipynb>data table notebook</a>'\n",
              "            + ' to learn more about interactive tables.';\n",
              "          element.innerHTML = '';\n",
              "          dataTable['output_type'] = 'display_data';\n",
              "          await google.colab.output.renderOutput(dataTable, element);\n",
              "          const docLink = document.createElement('div');\n",
              "          docLink.innerHTML = docLinkHtml;\n",
              "          element.appendChild(docLink);\n",
              "        }\n",
              "      </script>\n",
              "    </div>\n",
              "  </div>\n",
              "  "
            ]
          },
          "metadata": {},
          "execution_count": 156
        }
      ]
    },
    {
      "cell_type": "markdown",
      "source": [
        "# **Exploratory Analysis**"
      ],
      "metadata": {
        "id": "lkwiy37phV5I"
      }
    },
    {
      "cell_type": "code",
      "source": [
        "#check the dataset size\n",
        "data_rows =audit_data.shape[0]\n",
        "data_columns = audit_data.shape[1]\n",
        "print(f'This dataset have {data_rows} rows and {data_columns} columns.')"
      ],
      "metadata": {
        "colab": {
          "base_uri": "https://localhost:8080/"
        },
        "id": "GbMDoVhYKQra",
        "outputId": "4b069e87-adce-414e-a55b-8f1f780c20c4"
      },
      "execution_count": null,
      "outputs": [
        {
          "output_type": "stream",
          "name": "stdout",
          "text": [
            "This dataset have 800 rows and 21 columns.\n"
          ]
        }
      ]
    },
    {
      "cell_type": "code",
      "source": [
        "audit_data.info()"
      ],
      "metadata": {
        "colab": {
          "base_uri": "https://localhost:8080/"
        },
        "id": "IxgwIslZKY_s",
        "outputId": "92c899e2-c47b-4d90-8407-69616349e90d"
      },
      "execution_count": null,
      "outputs": [
        {
          "output_type": "stream",
          "name": "stdout",
          "text": [
            "<class 'pandas.core.frame.DataFrame'>\n",
            "RangeIndex: 800 entries, 0 to 799\n",
            "Data columns (total 21 columns):\n",
            " #   Column                  Non-Null Count  Dtype\n",
            "---  ------                  --------------  -----\n",
            " 0   checking_status         800 non-null    int64\n",
            " 1   duration                800 non-null    int64\n",
            " 2   credit_history          800 non-null    int64\n",
            " 3   purpose                 800 non-null    int64\n",
            " 4   credit_amount           800 non-null    int64\n",
            " 5   savings_status          800 non-null    int64\n",
            " 6   employment              800 non-null    int64\n",
            " 7   installment_commitment  800 non-null    int64\n",
            " 8   personal_status         800 non-null    int64\n",
            " 9   other_parties           800 non-null    int64\n",
            " 10  residence_since         800 non-null    int64\n",
            " 11  property_magnitude      800 non-null    int64\n",
            " 12  age                     800 non-null    int64\n",
            " 13  other_payment_plans     800 non-null    int64\n",
            " 14  housing                 800 non-null    int64\n",
            " 15  existing_credits        800 non-null    int64\n",
            " 16  job                     800 non-null    int64\n",
            " 17  num_dependents          800 non-null    int64\n",
            " 18  own_telephone           800 non-null    int64\n",
            " 19  foreign_worker          800 non-null    int64\n",
            " 20  class                   800 non-null    int64\n",
            "dtypes: int64(21)\n",
            "memory usage: 131.4 KB\n"
          ]
        }
      ]
    },
    {
      "cell_type": "code",
      "source": [
        "#Null values\n",
        "audit_data.isnull().sum()"
      ],
      "metadata": {
        "id": "-sbOruHsK6C8",
        "colab": {
          "base_uri": "https://localhost:8080/"
        },
        "outputId": "214b837a-6188-495e-d12a-dd7cd36bdd60"
      },
      "execution_count": null,
      "outputs": [
        {
          "output_type": "execute_result",
          "data": {
            "text/plain": [
              "checking_status           0\n",
              "duration                  0\n",
              "credit_history            0\n",
              "purpose                   0\n",
              "credit_amount             0\n",
              "savings_status            0\n",
              "employment                0\n",
              "installment_commitment    0\n",
              "personal_status           0\n",
              "other_parties             0\n",
              "residence_since           0\n",
              "property_magnitude        0\n",
              "age                       0\n",
              "other_payment_plans       0\n",
              "housing                   0\n",
              "existing_credits          0\n",
              "job                       0\n",
              "num_dependents            0\n",
              "own_telephone             0\n",
              "foreign_worker            0\n",
              "class                     0\n",
              "dtype: int64"
            ]
          },
          "metadata": {},
          "execution_count": 159
        }
      ]
    },
    {
      "cell_type": "code",
      "source": [
        "#N/A values\n",
        "audit_data.isna().sum()"
      ],
      "metadata": {
        "colab": {
          "base_uri": "https://localhost:8080/"
        },
        "id": "fA-bkxppiQ-Q",
        "outputId": "672a916a-4ac7-4870-8224-9d14982f244a"
      },
      "execution_count": null,
      "outputs": [
        {
          "output_type": "execute_result",
          "data": {
            "text/plain": [
              "checking_status           0\n",
              "duration                  0\n",
              "credit_history            0\n",
              "purpose                   0\n",
              "credit_amount             0\n",
              "savings_status            0\n",
              "employment                0\n",
              "installment_commitment    0\n",
              "personal_status           0\n",
              "other_parties             0\n",
              "residence_since           0\n",
              "property_magnitude        0\n",
              "age                       0\n",
              "other_payment_plans       0\n",
              "housing                   0\n",
              "existing_credits          0\n",
              "job                       0\n",
              "num_dependents            0\n",
              "own_telephone             0\n",
              "foreign_worker            0\n",
              "class                     0\n",
              "dtype: int64"
            ]
          },
          "metadata": {},
          "execution_count": 160
        }
      ]
    },
    {
      "cell_type": "markdown",
      "source": [
        "# **Statistical Summary**"
      ],
      "metadata": {
        "id": "XdvBgZ8V98oT"
      }
    },
    {
      "cell_type": "code",
      "source": [
        "#Statistics summary\n",
        "audit_data.describe()"
      ],
      "metadata": {
        "colab": {
          "base_uri": "https://localhost:8080/",
          "height": 364
        },
        "id": "3qr2q6YuiZUM",
        "outputId": "b122bf4e-f9a1-497c-dcee-25830417ccae"
      },
      "execution_count": null,
      "outputs": [
        {
          "output_type": "execute_result",
          "data": {
            "text/plain": [
              "       checking_status    duration  credit_history     purpose  credit_amount  \\\n",
              "count       800.000000  800.000000      800.000000  800.000000     800.000000   \n",
              "mean          1.563750   21.031250        2.188750    4.123750    3337.878750   \n",
              "std           1.248152   12.171502        1.067496    2.451724    2866.828413   \n",
              "min           0.000000    4.000000        0.000000    0.000000     250.000000   \n",
              "25%           0.000000   12.000000        1.000000    2.000000    1364.000000   \n",
              "50%           1.000000   18.000000        3.000000    5.000000    2332.000000   \n",
              "75%           3.000000   24.000000        3.000000    7.000000    4166.000000   \n",
              "max           3.000000   60.000000        4.000000    9.000000   18424.000000   \n",
              "\n",
              "       savings_status  employment  installment_commitment  personal_status  \\\n",
              "count      800.000000  800.000000              800.000000       800.000000   \n",
              "mean         2.130000    1.550000                2.945000         1.850000   \n",
              "std          1.122352    1.344343                1.118498         1.353621   \n",
              "min          0.000000    0.000000                1.000000         0.000000   \n",
              "25%          2.000000    0.000000                2.000000         0.000000   \n",
              "50%          2.000000    1.000000                3.000000         3.000000   \n",
              "75%          2.000000    3.000000                4.000000         3.000000   \n",
              "max          4.000000    4.000000                4.000000         3.000000   \n",
              "\n",
              "       other_parties  residence_since  property_magnitude         age  \\\n",
              "count     800.000000       800.000000          800.000000  800.000000   \n",
              "mean        1.863750         2.878750            1.697500   35.631250   \n",
              "std         0.453258         1.092264            1.157657   11.757682   \n",
              "min         0.000000         1.000000            0.000000   19.000000   \n",
              "25%         2.000000         2.000000            1.000000   26.000000   \n",
              "50%         2.000000         3.000000            2.000000   33.000000   \n",
              "75%         2.000000         4.000000            3.000000   42.000000   \n",
              "max         2.000000         4.000000            3.000000   75.000000   \n",
              "\n",
              "       other_payment_plans     housing  existing_credits         job  \\\n",
              "count           800.000000  800.000000        800.000000  800.000000   \n",
              "mean              0.908750    1.078750          1.410000    2.310000   \n",
              "std               0.425029    0.536571          0.574293    1.078357   \n",
              "min               0.000000    0.000000          1.000000    0.000000   \n",
              "25%               1.000000    1.000000          1.000000    2.000000   \n",
              "50%               1.000000    1.000000          1.000000    3.000000   \n",
              "75%               1.000000    1.000000          2.000000    3.000000   \n",
              "max               2.000000    2.000000          4.000000    3.000000   \n",
              "\n",
              "       num_dependents  own_telephone  foreign_worker       class  \n",
              "count      800.000000     800.000000      800.000000  800.000000  \n",
              "mean         1.142500       0.405000        0.965000    0.700000  \n",
              "std          0.349781       0.491199        0.183895    0.458544  \n",
              "min          1.000000       0.000000        0.000000    0.000000  \n",
              "25%          1.000000       0.000000        1.000000    0.000000  \n",
              "50%          1.000000       0.000000        1.000000    1.000000  \n",
              "75%          1.000000       1.000000        1.000000    1.000000  \n",
              "max          2.000000       1.000000        1.000000    1.000000  "
            ],
            "text/html": [
              "\n",
              "  <div id=\"df-60ee0209-9dec-4c79-af9c-9e226771c9df\">\n",
              "    <div class=\"colab-df-container\">\n",
              "      <div>\n",
              "<style scoped>\n",
              "    .dataframe tbody tr th:only-of-type {\n",
              "        vertical-align: middle;\n",
              "    }\n",
              "\n",
              "    .dataframe tbody tr th {\n",
              "        vertical-align: top;\n",
              "    }\n",
              "\n",
              "    .dataframe thead th {\n",
              "        text-align: right;\n",
              "    }\n",
              "</style>\n",
              "<table border=\"1\" class=\"dataframe\">\n",
              "  <thead>\n",
              "    <tr style=\"text-align: right;\">\n",
              "      <th></th>\n",
              "      <th>checking_status</th>\n",
              "      <th>duration</th>\n",
              "      <th>credit_history</th>\n",
              "      <th>purpose</th>\n",
              "      <th>credit_amount</th>\n",
              "      <th>savings_status</th>\n",
              "      <th>employment</th>\n",
              "      <th>installment_commitment</th>\n",
              "      <th>personal_status</th>\n",
              "      <th>other_parties</th>\n",
              "      <th>residence_since</th>\n",
              "      <th>property_magnitude</th>\n",
              "      <th>age</th>\n",
              "      <th>other_payment_plans</th>\n",
              "      <th>housing</th>\n",
              "      <th>existing_credits</th>\n",
              "      <th>job</th>\n",
              "      <th>num_dependents</th>\n",
              "      <th>own_telephone</th>\n",
              "      <th>foreign_worker</th>\n",
              "      <th>class</th>\n",
              "    </tr>\n",
              "  </thead>\n",
              "  <tbody>\n",
              "    <tr>\n",
              "      <th>count</th>\n",
              "      <td>800.000000</td>\n",
              "      <td>800.000000</td>\n",
              "      <td>800.000000</td>\n",
              "      <td>800.000000</td>\n",
              "      <td>800.000000</td>\n",
              "      <td>800.000000</td>\n",
              "      <td>800.000000</td>\n",
              "      <td>800.000000</td>\n",
              "      <td>800.000000</td>\n",
              "      <td>800.000000</td>\n",
              "      <td>800.000000</td>\n",
              "      <td>800.000000</td>\n",
              "      <td>800.000000</td>\n",
              "      <td>800.000000</td>\n",
              "      <td>800.000000</td>\n",
              "      <td>800.000000</td>\n",
              "      <td>800.000000</td>\n",
              "      <td>800.000000</td>\n",
              "      <td>800.000000</td>\n",
              "      <td>800.000000</td>\n",
              "      <td>800.000000</td>\n",
              "    </tr>\n",
              "    <tr>\n",
              "      <th>mean</th>\n",
              "      <td>1.563750</td>\n",
              "      <td>21.031250</td>\n",
              "      <td>2.188750</td>\n",
              "      <td>4.123750</td>\n",
              "      <td>3337.878750</td>\n",
              "      <td>2.130000</td>\n",
              "      <td>1.550000</td>\n",
              "      <td>2.945000</td>\n",
              "      <td>1.850000</td>\n",
              "      <td>1.863750</td>\n",
              "      <td>2.878750</td>\n",
              "      <td>1.697500</td>\n",
              "      <td>35.631250</td>\n",
              "      <td>0.908750</td>\n",
              "      <td>1.078750</td>\n",
              "      <td>1.410000</td>\n",
              "      <td>2.310000</td>\n",
              "      <td>1.142500</td>\n",
              "      <td>0.405000</td>\n",
              "      <td>0.965000</td>\n",
              "      <td>0.700000</td>\n",
              "    </tr>\n",
              "    <tr>\n",
              "      <th>std</th>\n",
              "      <td>1.248152</td>\n",
              "      <td>12.171502</td>\n",
              "      <td>1.067496</td>\n",
              "      <td>2.451724</td>\n",
              "      <td>2866.828413</td>\n",
              "      <td>1.122352</td>\n",
              "      <td>1.344343</td>\n",
              "      <td>1.118498</td>\n",
              "      <td>1.353621</td>\n",
              "      <td>0.453258</td>\n",
              "      <td>1.092264</td>\n",
              "      <td>1.157657</td>\n",
              "      <td>11.757682</td>\n",
              "      <td>0.425029</td>\n",
              "      <td>0.536571</td>\n",
              "      <td>0.574293</td>\n",
              "      <td>1.078357</td>\n",
              "      <td>0.349781</td>\n",
              "      <td>0.491199</td>\n",
              "      <td>0.183895</td>\n",
              "      <td>0.458544</td>\n",
              "    </tr>\n",
              "    <tr>\n",
              "      <th>min</th>\n",
              "      <td>0.000000</td>\n",
              "      <td>4.000000</td>\n",
              "      <td>0.000000</td>\n",
              "      <td>0.000000</td>\n",
              "      <td>250.000000</td>\n",
              "      <td>0.000000</td>\n",
              "      <td>0.000000</td>\n",
              "      <td>1.000000</td>\n",
              "      <td>0.000000</td>\n",
              "      <td>0.000000</td>\n",
              "      <td>1.000000</td>\n",
              "      <td>0.000000</td>\n",
              "      <td>19.000000</td>\n",
              "      <td>0.000000</td>\n",
              "      <td>0.000000</td>\n",
              "      <td>1.000000</td>\n",
              "      <td>0.000000</td>\n",
              "      <td>1.000000</td>\n",
              "      <td>0.000000</td>\n",
              "      <td>0.000000</td>\n",
              "      <td>0.000000</td>\n",
              "    </tr>\n",
              "    <tr>\n",
              "      <th>25%</th>\n",
              "      <td>0.000000</td>\n",
              "      <td>12.000000</td>\n",
              "      <td>1.000000</td>\n",
              "      <td>2.000000</td>\n",
              "      <td>1364.000000</td>\n",
              "      <td>2.000000</td>\n",
              "      <td>0.000000</td>\n",
              "      <td>2.000000</td>\n",
              "      <td>0.000000</td>\n",
              "      <td>2.000000</td>\n",
              "      <td>2.000000</td>\n",
              "      <td>1.000000</td>\n",
              "      <td>26.000000</td>\n",
              "      <td>1.000000</td>\n",
              "      <td>1.000000</td>\n",
              "      <td>1.000000</td>\n",
              "      <td>2.000000</td>\n",
              "      <td>1.000000</td>\n",
              "      <td>0.000000</td>\n",
              "      <td>1.000000</td>\n",
              "      <td>0.000000</td>\n",
              "    </tr>\n",
              "    <tr>\n",
              "      <th>50%</th>\n",
              "      <td>1.000000</td>\n",
              "      <td>18.000000</td>\n",
              "      <td>3.000000</td>\n",
              "      <td>5.000000</td>\n",
              "      <td>2332.000000</td>\n",
              "      <td>2.000000</td>\n",
              "      <td>1.000000</td>\n",
              "      <td>3.000000</td>\n",
              "      <td>3.000000</td>\n",
              "      <td>2.000000</td>\n",
              "      <td>3.000000</td>\n",
              "      <td>2.000000</td>\n",
              "      <td>33.000000</td>\n",
              "      <td>1.000000</td>\n",
              "      <td>1.000000</td>\n",
              "      <td>1.000000</td>\n",
              "      <td>3.000000</td>\n",
              "      <td>1.000000</td>\n",
              "      <td>0.000000</td>\n",
              "      <td>1.000000</td>\n",
              "      <td>1.000000</td>\n",
              "    </tr>\n",
              "    <tr>\n",
              "      <th>75%</th>\n",
              "      <td>3.000000</td>\n",
              "      <td>24.000000</td>\n",
              "      <td>3.000000</td>\n",
              "      <td>7.000000</td>\n",
              "      <td>4166.000000</td>\n",
              "      <td>2.000000</td>\n",
              "      <td>3.000000</td>\n",
              "      <td>4.000000</td>\n",
              "      <td>3.000000</td>\n",
              "      <td>2.000000</td>\n",
              "      <td>4.000000</td>\n",
              "      <td>3.000000</td>\n",
              "      <td>42.000000</td>\n",
              "      <td>1.000000</td>\n",
              "      <td>1.000000</td>\n",
              "      <td>2.000000</td>\n",
              "      <td>3.000000</td>\n",
              "      <td>1.000000</td>\n",
              "      <td>1.000000</td>\n",
              "      <td>1.000000</td>\n",
              "      <td>1.000000</td>\n",
              "    </tr>\n",
              "    <tr>\n",
              "      <th>max</th>\n",
              "      <td>3.000000</td>\n",
              "      <td>60.000000</td>\n",
              "      <td>4.000000</td>\n",
              "      <td>9.000000</td>\n",
              "      <td>18424.000000</td>\n",
              "      <td>4.000000</td>\n",
              "      <td>4.000000</td>\n",
              "      <td>4.000000</td>\n",
              "      <td>3.000000</td>\n",
              "      <td>2.000000</td>\n",
              "      <td>4.000000</td>\n",
              "      <td>3.000000</td>\n",
              "      <td>75.000000</td>\n",
              "      <td>2.000000</td>\n",
              "      <td>2.000000</td>\n",
              "      <td>4.000000</td>\n",
              "      <td>3.000000</td>\n",
              "      <td>2.000000</td>\n",
              "      <td>1.000000</td>\n",
              "      <td>1.000000</td>\n",
              "      <td>1.000000</td>\n",
              "    </tr>\n",
              "  </tbody>\n",
              "</table>\n",
              "</div>\n",
              "      <button class=\"colab-df-convert\" onclick=\"convertToInteractive('df-60ee0209-9dec-4c79-af9c-9e226771c9df')\"\n",
              "              title=\"Convert this dataframe to an interactive table.\"\n",
              "              style=\"display:none;\">\n",
              "        \n",
              "  <svg xmlns=\"http://www.w3.org/2000/svg\" height=\"24px\"viewBox=\"0 0 24 24\"\n",
              "       width=\"24px\">\n",
              "    <path d=\"M0 0h24v24H0V0z\" fill=\"none\"/>\n",
              "    <path d=\"M18.56 5.44l.94 2.06.94-2.06 2.06-.94-2.06-.94-.94-2.06-.94 2.06-2.06.94zm-11 1L8.5 8.5l.94-2.06 2.06-.94-2.06-.94L8.5 2.5l-.94 2.06-2.06.94zm10 10l.94 2.06.94-2.06 2.06-.94-2.06-.94-.94-2.06-.94 2.06-2.06.94z\"/><path d=\"M17.41 7.96l-1.37-1.37c-.4-.4-.92-.59-1.43-.59-.52 0-1.04.2-1.43.59L10.3 9.45l-7.72 7.72c-.78.78-.78 2.05 0 2.83L4 21.41c.39.39.9.59 1.41.59.51 0 1.02-.2 1.41-.59l7.78-7.78 2.81-2.81c.8-.78.8-2.07 0-2.86zM5.41 20L4 18.59l7.72-7.72 1.47 1.35L5.41 20z\"/>\n",
              "  </svg>\n",
              "      </button>\n",
              "      \n",
              "  <style>\n",
              "    .colab-df-container {\n",
              "      display:flex;\n",
              "      flex-wrap:wrap;\n",
              "      gap: 12px;\n",
              "    }\n",
              "\n",
              "    .colab-df-convert {\n",
              "      background-color: #E8F0FE;\n",
              "      border: none;\n",
              "      border-radius: 50%;\n",
              "      cursor: pointer;\n",
              "      display: none;\n",
              "      fill: #1967D2;\n",
              "      height: 32px;\n",
              "      padding: 0 0 0 0;\n",
              "      width: 32px;\n",
              "    }\n",
              "\n",
              "    .colab-df-convert:hover {\n",
              "      background-color: #E2EBFA;\n",
              "      box-shadow: 0px 1px 2px rgba(60, 64, 67, 0.3), 0px 1px 3px 1px rgba(60, 64, 67, 0.15);\n",
              "      fill: #174EA6;\n",
              "    }\n",
              "\n",
              "    [theme=dark] .colab-df-convert {\n",
              "      background-color: #3B4455;\n",
              "      fill: #D2E3FC;\n",
              "    }\n",
              "\n",
              "    [theme=dark] .colab-df-convert:hover {\n",
              "      background-color: #434B5C;\n",
              "      box-shadow: 0px 1px 3px 1px rgba(0, 0, 0, 0.15);\n",
              "      filter: drop-shadow(0px 1px 2px rgba(0, 0, 0, 0.3));\n",
              "      fill: #FFFFFF;\n",
              "    }\n",
              "  </style>\n",
              "\n",
              "      <script>\n",
              "        const buttonEl =\n",
              "          document.querySelector('#df-60ee0209-9dec-4c79-af9c-9e226771c9df button.colab-df-convert');\n",
              "        buttonEl.style.display =\n",
              "          google.colab.kernel.accessAllowed ? 'block' : 'none';\n",
              "\n",
              "        async function convertToInteractive(key) {\n",
              "          const element = document.querySelector('#df-60ee0209-9dec-4c79-af9c-9e226771c9df');\n",
              "          const dataTable =\n",
              "            await google.colab.kernel.invokeFunction('convertToInteractive',\n",
              "                                                     [key], {});\n",
              "          if (!dataTable) return;\n",
              "\n",
              "          const docLinkHtml = 'Like what you see? Visit the ' +\n",
              "            '<a target=\"_blank\" href=https://colab.research.google.com/notebooks/data_table.ipynb>data table notebook</a>'\n",
              "            + ' to learn more about interactive tables.';\n",
              "          element.innerHTML = '';\n",
              "          dataTable['output_type'] = 'display_data';\n",
              "          await google.colab.output.renderOutput(dataTable, element);\n",
              "          const docLink = document.createElement('div');\n",
              "          docLink.innerHTML = docLinkHtml;\n",
              "          element.appendChild(docLink);\n",
              "        }\n",
              "      </script>\n",
              "    </div>\n",
              "  </div>\n",
              "  "
            ]
          },
          "metadata": {},
          "execution_count": 161
        }
      ]
    },
    {
      "cell_type": "code",
      "source": [
        "#numerical variables\n",
        "num_cols = pd.DataFrame(audit_data[audit_data.select_dtypes(include=['float','int']).columns])\n",
        "#print the numerical variables\n",
        "num_cols.columns"
      ],
      "metadata": {
        "colab": {
          "base_uri": "https://localhost:8080/"
        },
        "id": "8BcQGAcjxQqS",
        "outputId": "72ca8402-f897-40b9-810e-66ae61bb673f"
      },
      "execution_count": null,
      "outputs": [
        {
          "output_type": "execute_result",
          "data": {
            "text/plain": [
              "Index(['checking_status', 'duration', 'credit_history', 'purpose',\n",
              "       'credit_amount', 'savings_status', 'employment',\n",
              "       'installment_commitment', 'personal_status', 'other_parties',\n",
              "       'residence_since', 'property_magnitude', 'age', 'other_payment_plans',\n",
              "       'housing', 'existing_credits', 'job', 'num_dependents', 'own_telephone',\n",
              "       'foreign_worker', 'class'],\n",
              "      dtype='object')"
            ]
          },
          "metadata": {},
          "execution_count": 162
        }
      ]
    },
    {
      "cell_type": "code",
      "source": [
        "def scatters(data, h=None, pal=None):\n",
        "  fig,(ax1,ax2,ax3) = plt.subplots(3,1,figsize=(8,8))\n",
        "  sns.scatterplot(x=\"checking_status\",y =\"duration\", hue=h, palette=pal, data=data, ax=ax1)\n",
        "  sns.scatterplot(x=\"age\",y =\"credit_amount\", hue=h, palette=pal, data=data, ax=ax2)\n",
        "  sns.scatterplot(x=\"age\",y =\"duration\", hue=h, palette=pal, data=data, ax=ax3)\n",
        "\n",
        "scatters(audit_data, h='class')\n",
        "plt.tight_layout()\n",
        "\n"
      ],
      "metadata": {
        "colab": {
          "base_uri": "https://localhost:8080/",
          "height": 577
        },
        "id": "F12bz5ZNBl6i",
        "outputId": "825f7dcc-577e-44ff-a120-b1c1ff16c9d9"
      },
      "execution_count": null,
      "outputs": [
        {
          "output_type": "display_data",
          "data": {
            "text/plain": [
              "<Figure size 576x576 with 3 Axes>"
            ],
            "image/png": "[encoded data removed]"
          },
          "metadata": {}
        }
      ]
    },
    {
      "cell_type": "code",
      "source": [
        "# checking whether Dataset is balanced or not\n",
        "audit_data['class'].value_counts(normalize=True)"
      ],
      "metadata": {
        "id": "ND7DG24eh2ey",
        "colab": {
          "base_uri": "https://localhost:8080/"
        },
        "outputId": "c3e86269-a3bf-42a0-a81e-47fd68f7712c"
      },
      "execution_count": null,
      "outputs": [
        {
          "output_type": "execute_result",
          "data": {
            "text/plain": [
              "1    0.7\n",
              "0    0.3\n",
              "Name: class, dtype: float64"
            ]
          },
          "metadata": {},
          "execution_count": 164
        }
      ]
    },
    {
      "cell_type": "code",
      "source": [
        "drop_col=['class']\n",
        "col_need=['checking_status', 'duration','savings_status','other_payment_plans']"
      ],
      "metadata": {
        "id": "uSBx3vK_h7Ix"
      },
      "execution_count": null,
      "outputs": []
    },
    {
      "cell_type": "code",
      "source": [
        "audit_data.head()"
      ],
      "metadata": {
        "colab": {
          "base_uri": "https://localhost:8080/",
          "height": 270
        },
        "id": "cfiEeWmhJ_vd",
        "outputId": "6065318e-014e-4893-bb29-6d4113b36883"
      },
      "execution_count": null,
      "outputs": [
        {
          "output_type": "execute_result",
          "data": {
            "text/plain": [
              "   checking_status  duration  credit_history  purpose  credit_amount  \\\n",
              "0                3        18               1        7           1800   \n",
              "1                1        24               3        7           2439   \n",
              "2                3        36               4        8           2613   \n",
              "3                3        15               3        4           4623   \n",
              "4                1        21               3        5           3599   \n",
              "\n",
              "   savings_status  employment  installment_commitment  personal_status  \\\n",
              "0               2           0                       4                3   \n",
              "1               2           2                       4                0   \n",
              "2               2           0                       4                3   \n",
              "3               0           0                       3                3   \n",
              "4               2           1                       1                0   \n",
              "\n",
              "   other_parties  residence_since  property_magnitude  age  \\\n",
              "0              2                2                   3   24   \n",
              "1              2                4                   2   35   \n",
              "2              2                2                   3   27   \n",
              "3              2                2                   0   40   \n",
              "4              2                4                   3   26   \n",
              "\n",
              "   other_payment_plans  housing  existing_credits  job  num_dependents  \\\n",
              "0                    1        1                 2    3               1   \n",
              "1                    1        1                 1    3               1   \n",
              "2                    1        1                 2    3               1   \n",
              "3                    1        1                 1    0               1   \n",
              "4                    1        2                 1    2               1   \n",
              "\n",
              "   own_telephone  foreign_worker  class  \n",
              "0              0               1      1  \n",
              "1              1               1      0  \n",
              "2              0               1      1  \n",
              "3              1               1      0  \n",
              "4              0               1      1  "
            ],
            "text/html": [
              "\n",
              "  <div id=\"df-3a89124a-0e5c-40a0-8761-30208aa938c4\">\n",
              "    <div class=\"colab-df-container\">\n",
              "      <div>\n",
              "<style scoped>\n",
              "    .dataframe tbody tr th:only-of-type {\n",
              "        vertical-align: middle;\n",
              "    }\n",
              "\n",
              "    .dataframe tbody tr th {\n",
              "        vertical-align: top;\n",
              "    }\n",
              "\n",
              "    .dataframe thead th {\n",
              "        text-align: right;\n",
              "    }\n",
              "</style>\n",
              "<table border=\"1\" class=\"dataframe\">\n",
              "  <thead>\n",
              "    <tr style=\"text-align: right;\">\n",
              "      <th></th>\n",
              "      <th>checking_status</th>\n",
              "      <th>duration</th>\n",
              "      <th>credit_history</th>\n",
              "      <th>purpose</th>\n",
              "      <th>credit_amount</th>\n",
              "      <th>savings_status</th>\n",
              "      <th>employment</th>\n",
              "      <th>installment_commitment</th>\n",
              "      <th>personal_status</th>\n",
              "      <th>other_parties</th>\n",
              "      <th>residence_since</th>\n",
              "      <th>property_magnitude</th>\n",
              "      <th>age</th>\n",
              "      <th>other_payment_plans</th>\n",
              "      <th>housing</th>\n",
              "      <th>existing_credits</th>\n",
              "      <th>job</th>\n",
              "      <th>num_dependents</th>\n",
              "      <th>own_telephone</th>\n",
              "      <th>foreign_worker</th>\n",
              "      <th>class</th>\n",
              "    </tr>\n",
              "  </thead>\n",
              "  <tbody>\n",
              "    <tr>\n",
              "      <th>0</th>\n",
              "      <td>3</td>\n",
              "      <td>18</td>\n",
              "      <td>1</td>\n",
              "      <td>7</td>\n",
              "      <td>1800</td>\n",
              "      <td>2</td>\n",
              "      <td>0</td>\n",
              "      <td>4</td>\n",
              "      <td>3</td>\n",
              "      <td>2</td>\n",
              "      <td>2</td>\n",
              "      <td>3</td>\n",
              "      <td>24</td>\n",
              "      <td>1</td>\n",
              "      <td>1</td>\n",
              "      <td>2</td>\n",
              "      <td>3</td>\n",
              "      <td>1</td>\n",
              "      <td>0</td>\n",
              "      <td>1</td>\n",
              "      <td>1</td>\n",
              "    </tr>\n",
              "    <tr>\n",
              "      <th>1</th>\n",
              "      <td>1</td>\n",
              "      <td>24</td>\n",
              "      <td>3</td>\n",
              "      <td>7</td>\n",
              "      <td>2439</td>\n",
              "      <td>2</td>\n",
              "      <td>2</td>\n",
              "      <td>4</td>\n",
              "      <td>0</td>\n",
              "      <td>2</td>\n",
              "      <td>4</td>\n",
              "      <td>2</td>\n",
              "      <td>35</td>\n",
              "      <td>1</td>\n",
              "      <td>1</td>\n",
              "      <td>1</td>\n",
              "      <td>3</td>\n",
              "      <td>1</td>\n",
              "      <td>1</td>\n",
              "      <td>1</td>\n",
              "      <td>0</td>\n",
              "    </tr>\n",
              "    <tr>\n",
              "      <th>2</th>\n",
              "      <td>3</td>\n",
              "      <td>36</td>\n",
              "      <td>4</td>\n",
              "      <td>8</td>\n",
              "      <td>2613</td>\n",
              "      <td>2</td>\n",
              "      <td>0</td>\n",
              "      <td>4</td>\n",
              "      <td>3</td>\n",
              "      <td>2</td>\n",
              "      <td>2</td>\n",
              "      <td>3</td>\n",
              "      <td>27</td>\n",
              "      <td>1</td>\n",
              "      <td>1</td>\n",
              "      <td>2</td>\n",
              "      <td>3</td>\n",
              "      <td>1</td>\n",
              "      <td>0</td>\n",
              "      <td>1</td>\n",
              "      <td>1</td>\n",
              "    </tr>\n",
              "    <tr>\n",
              "      <th>3</th>\n",
              "      <td>3</td>\n",
              "      <td>15</td>\n",
              "      <td>3</td>\n",
              "      <td>4</td>\n",
              "      <td>4623</td>\n",
              "      <td>0</td>\n",
              "      <td>0</td>\n",
              "      <td>3</td>\n",
              "      <td>3</td>\n",
              "      <td>2</td>\n",
              "      <td>2</td>\n",
              "      <td>0</td>\n",
              "      <td>40</td>\n",
              "      <td>1</td>\n",
              "      <td>1</td>\n",
              "      <td>1</td>\n",
              "      <td>0</td>\n",
              "      <td>1</td>\n",
              "      <td>1</td>\n",
              "      <td>1</td>\n",
              "      <td>0</td>\n",
              "    </tr>\n",
              "    <tr>\n",
              "      <th>4</th>\n",
              "      <td>1</td>\n",
              "      <td>21</td>\n",
              "      <td>3</td>\n",
              "      <td>5</td>\n",
              "      <td>3599</td>\n",
              "      <td>2</td>\n",
              "      <td>1</td>\n",
              "      <td>1</td>\n",
              "      <td>0</td>\n",
              "      <td>2</td>\n",
              "      <td>4</td>\n",
              "      <td>3</td>\n",
              "      <td>26</td>\n",
              "      <td>1</td>\n",
              "      <td>2</td>\n",
              "      <td>1</td>\n",
              "      <td>2</td>\n",
              "      <td>1</td>\n",
              "      <td>0</td>\n",
              "      <td>1</td>\n",
              "      <td>1</td>\n",
              "    </tr>\n",
              "  </tbody>\n",
              "</table>\n",
              "</div>\n",
              "      <button class=\"colab-df-convert\" onclick=\"convertToInteractive('df-3a89124a-0e5c-40a0-8761-30208aa938c4')\"\n",
              "              title=\"Convert this dataframe to an interactive table.\"\n",
              "              style=\"display:none;\">\n",
              "        \n",
              "  <svg xmlns=\"http://www.w3.org/2000/svg\" height=\"24px\"viewBox=\"0 0 24 24\"\n",
              "       width=\"24px\">\n",
              "    <path d=\"M0 0h24v24H0V0z\" fill=\"none\"/>\n",
              "    <path d=\"M18.56 5.44l.94 2.06.94-2.06 2.06-.94-2.06-.94-.94-2.06-.94 2.06-2.06.94zm-11 1L8.5 8.5l.94-2.06 2.06-.94-2.06-.94L8.5 2.5l-.94 2.06-2.06.94zm10 10l.94 2.06.94-2.06 2.06-.94-2.06-.94-.94-2.06-.94 2.06-2.06.94z\"/><path d=\"M17.41 7.96l-1.37-1.37c-.4-.4-.92-.59-1.43-.59-.52 0-1.04.2-1.43.59L10.3 9.45l-7.72 7.72c-.78.78-.78 2.05 0 2.83L4 21.41c.39.39.9.59 1.41.59.51 0 1.02-.2 1.41-.59l7.78-7.78 2.81-2.81c.8-.78.8-2.07 0-2.86zM5.41 20L4 18.59l7.72-7.72 1.47 1.35L5.41 20z\"/>\n",
              "  </svg>\n",
              "      </button>\n",
              "      \n",
              "  <style>\n",
              "    .colab-df-container {\n",
              "      display:flex;\n",
              "      flex-wrap:wrap;\n",
              "      gap: 12px;\n",
              "    }\n",
              "\n",
              "    .colab-df-convert {\n",
              "      background-color: #E8F0FE;\n",
              "      border: none;\n",
              "      border-radius: 50%;\n",
              "      cursor: pointer;\n",
              "      display: none;\n",
              "      fill: #1967D2;\n",
              "      height: 32px;\n",
              "      padding: 0 0 0 0;\n",
              "      width: 32px;\n",
              "    }\n",
              "\n",
              "    .colab-df-convert:hover {\n",
              "      background-color: #E2EBFA;\n",
              "      box-shadow: 0px 1px 2px rgba(60, 64, 67, 0.3), 0px 1px 3px 1px rgba(60, 64, 67, 0.15);\n",
              "      fill: #174EA6;\n",
              "    }\n",
              "\n",
              "    [theme=dark] .colab-df-convert {\n",
              "      background-color: #3B4455;\n",
              "      fill: #D2E3FC;\n",
              "    }\n",
              "\n",
              "    [theme=dark] .colab-df-convert:hover {\n",
              "      background-color: #434B5C;\n",
              "      box-shadow: 0px 1px 3px 1px rgba(0, 0, 0, 0.15);\n",
              "      filter: drop-shadow(0px 1px 2px rgba(0, 0, 0, 0.3));\n",
              "      fill: #FFFFFF;\n",
              "    }\n",
              "  </style>\n",
              "\n",
              "      <script>\n",
              "        const buttonEl =\n",
              "          document.querySelector('#df-3a89124a-0e5c-40a0-8761-30208aa938c4 button.colab-df-convert');\n",
              "        buttonEl.style.display =\n",
              "          google.colab.kernel.accessAllowed ? 'block' : 'none';\n",
              "\n",
              "        async function convertToInteractive(key) {\n",
              "          const element = document.querySelector('#df-3a89124a-0e5c-40a0-8761-30208aa938c4');\n",
              "          const dataTable =\n",
              "            await google.colab.kernel.invokeFunction('convertToInteractive',\n",
              "                                                     [key], {});\n",
              "          if (!dataTable) return;\n",
              "\n",
              "          const docLinkHtml = 'Like what you see? Visit the ' +\n",
              "            '<a target=\"_blank\" href=https://colab.research.google.com/notebooks/data_table.ipynb>data table notebook</a>'\n",
              "            + ' to learn more about interactive tables.';\n",
              "          element.innerHTML = '';\n",
              "          dataTable['output_type'] = 'display_data';\n",
              "          await google.colab.output.renderOutput(dataTable, element);\n",
              "          const docLink = document.createElement('div');\n",
              "          docLink.innerHTML = docLinkHtml;\n",
              "          element.appendChild(docLink);\n",
              "        }\n",
              "      </script>\n",
              "    </div>\n",
              "  </div>\n",
              "  "
            ]
          },
          "metadata": {},
          "execution_count": 166
        }
      ]
    },
    {
      "cell_type": "markdown",
      "source": [
        "# **Model Training**"
      ],
      "metadata": {
        "id": "275A2s9fizNf"
      }
    },
    {
      "cell_type": "code",
      "source": [
        "# assigning X and y\n",
        "X=audit_data.drop(drop_col,axis=1)\n",
        "#X=audit_data[col_need]\n",
        "y=audit_data['class']\n"
      ],
      "metadata": {
        "id": "EFZAQpEAiKs9"
      },
      "execution_count": null,
      "outputs": []
    },
    {
      "cell_type": "code",
      "source": [
        "X.head()"
      ],
      "metadata": {
        "id": "bimyqy5Gject",
        "colab": {
          "base_uri": "https://localhost:8080/",
          "height": 270
        },
        "outputId": "f3a58a40-e4e3-4644-df9b-ff82d07c6119"
      },
      "execution_count": null,
      "outputs": [
        {
          "output_type": "execute_result",
          "data": {
            "text/plain": [
              "   checking_status  duration  credit_history  purpose  credit_amount  \\\n",
              "0                3        18               1        7           1800   \n",
              "1                1        24               3        7           2439   \n",
              "2                3        36               4        8           2613   \n",
              "3                3        15               3        4           4623   \n",
              "4                1        21               3        5           3599   \n",
              "\n",
              "   savings_status  employment  installment_commitment  personal_status  \\\n",
              "0               2           0                       4                3   \n",
              "1               2           2                       4                0   \n",
              "2               2           0                       4                3   \n",
              "3               0           0                       3                3   \n",
              "4               2           1                       1                0   \n",
              "\n",
              "   other_parties  residence_since  property_magnitude  age  \\\n",
              "0              2                2                   3   24   \n",
              "1              2                4                   2   35   \n",
              "2              2                2                   3   27   \n",
              "3              2                2                   0   40   \n",
              "4              2                4                   3   26   \n",
              "\n",
              "   other_payment_plans  housing  existing_credits  job  num_dependents  \\\n",
              "0                    1        1                 2    3               1   \n",
              "1                    1        1                 1    3               1   \n",
              "2                    1        1                 2    3               1   \n",
              "3                    1        1                 1    0               1   \n",
              "4                    1        2                 1    2               1   \n",
              "\n",
              "   own_telephone  foreign_worker  \n",
              "0              0               1  \n",
              "1              1               1  \n",
              "2              0               1  \n",
              "3              1               1  \n",
              "4              0               1  "
            ],
            "text/html": [
              "\n",
              "  <div id=\"df-895b5f76-e86d-450c-8357-96121b16c715\">\n",
              "    <div class=\"colab-df-container\">\n",
              "      <div>\n",
              "<style scoped>\n",
              "    .dataframe tbody tr th:only-of-type {\n",
              "        vertical-align: middle;\n",
              "    }\n",
              "\n",
              "    .dataframe tbody tr th {\n",
              "        vertical-align: top;\n",
              "    }\n",
              "\n",
              "    .dataframe thead th {\n",
              "        text-align: right;\n",
              "    }\n",
              "</style>\n",
              "<table border=\"1\" class=\"dataframe\">\n",
              "  <thead>\n",
              "    <tr style=\"text-align: right;\">\n",
              "      <th></th>\n",
              "      <th>checking_status</th>\n",
              "      <th>duration</th>\n",
              "      <th>credit_history</th>\n",
              "      <th>purpose</th>\n",
              "      <th>credit_amount</th>\n",
              "      <th>savings_status</th>\n",
              "      <th>employment</th>\n",
              "      <th>installment_commitment</th>\n",
              "      <th>personal_status</th>\n",
              "      <th>other_parties</th>\n",
              "      <th>residence_since</th>\n",
              "      <th>property_magnitude</th>\n",
              "      <th>age</th>\n",
              "      <th>other_payment_plans</th>\n",
              "      <th>housing</th>\n",
              "      <th>existing_credits</th>\n",
              "      <th>job</th>\n",
              "      <th>num_dependents</th>\n",
              "      <th>own_telephone</th>\n",
              "      <th>foreign_worker</th>\n",
              "    </tr>\n",
              "  </thead>\n",
              "  <tbody>\n",
              "    <tr>\n",
              "      <th>0</th>\n",
              "      <td>3</td>\n",
              "      <td>18</td>\n",
              "      <td>1</td>\n",
              "      <td>7</td>\n",
              "      <td>1800</td>\n",
              "      <td>2</td>\n",
              "      <td>0</td>\n",
              "      <td>4</td>\n",
              "      <td>3</td>\n",
              "      <td>2</td>\n",
              "      <td>2</td>\n",
              "      <td>3</td>\n",
              "      <td>24</td>\n",
              "      <td>1</td>\n",
              "      <td>1</td>\n",
              "      <td>2</td>\n",
              "      <td>3</td>\n",
              "      <td>1</td>\n",
              "      <td>0</td>\n",
              "      <td>1</td>\n",
              "    </tr>\n",
              "    <tr>\n",
              "      <th>1</th>\n",
              "      <td>1</td>\n",
              "      <td>24</td>\n",
              "      <td>3</td>\n",
              "      <td>7</td>\n",
              "      <td>2439</td>\n",
              "      <td>2</td>\n",
              "      <td>2</td>\n",
              "      <td>4</td>\n",
              "      <td>0</td>\n",
              "      <td>2</td>\n",
              "      <td>4</td>\n",
              "      <td>2</td>\n",
              "      <td>35</td>\n",
              "      <td>1</td>\n",
              "      <td>1</td>\n",
              "      <td>1</td>\n",
              "      <td>3</td>\n",
              "      <td>1</td>\n",
              "      <td>1</td>\n",
              "      <td>1</td>\n",
              "    </tr>\n",
              "    <tr>\n",
              "      <th>2</th>\n",
              "      <td>3</td>\n",
              "      <td>36</td>\n",
              "      <td>4</td>\n",
              "      <td>8</td>\n",
              "      <td>2613</td>\n",
              "      <td>2</td>\n",
              "      <td>0</td>\n",
              "      <td>4</td>\n",
              "      <td>3</td>\n",
              "      <td>2</td>\n",
              "      <td>2</td>\n",
              "      <td>3</td>\n",
              "      <td>27</td>\n",
              "      <td>1</td>\n",
              "      <td>1</td>\n",
              "      <td>2</td>\n",
              "      <td>3</td>\n",
              "      <td>1</td>\n",
              "      <td>0</td>\n",
              "      <td>1</td>\n",
              "    </tr>\n",
              "    <tr>\n",
              "      <th>3</th>\n",
              "      <td>3</td>\n",
              "      <td>15</td>\n",
              "      <td>3</td>\n",
              "      <td>4</td>\n",
              "      <td>4623</td>\n",
              "      <td>0</td>\n",
              "      <td>0</td>\n",
              "      <td>3</td>\n",
              "      <td>3</td>\n",
              "      <td>2</td>\n",
              "      <td>2</td>\n",
              "      <td>0</td>\n",
              "      <td>40</td>\n",
              "      <td>1</td>\n",
              "      <td>1</td>\n",
              "      <td>1</td>\n",
              "      <td>0</td>\n",
              "      <td>1</td>\n",
              "      <td>1</td>\n",
              "      <td>1</td>\n",
              "    </tr>\n",
              "    <tr>\n",
              "      <th>4</th>\n",
              "      <td>1</td>\n",
              "      <td>21</td>\n",
              "      <td>3</td>\n",
              "      <td>5</td>\n",
              "      <td>3599</td>\n",
              "      <td>2</td>\n",
              "      <td>1</td>\n",
              "      <td>1</td>\n",
              "      <td>0</td>\n",
              "      <td>2</td>\n",
              "      <td>4</td>\n",
              "      <td>3</td>\n",
              "      <td>26</td>\n",
              "      <td>1</td>\n",
              "      <td>2</td>\n",
              "      <td>1</td>\n",
              "      <td>2</td>\n",
              "      <td>1</td>\n",
              "      <td>0</td>\n",
              "      <td>1</td>\n",
              "    </tr>\n",
              "  </tbody>\n",
              "</table>\n",
              "</div>\n",
              "      <button class=\"colab-df-convert\" onclick=\"convertToInteractive('df-895b5f76-e86d-450c-8357-96121b16c715')\"\n",
              "              title=\"Convert this dataframe to an interactive table.\"\n",
              "              style=\"display:none;\">\n",
              "        \n",
              "  <svg xmlns=\"http://www.w3.org/2000/svg\" height=\"24px\"viewBox=\"0 0 24 24\"\n",
              "       width=\"24px\">\n",
              "    <path d=\"M0 0h24v24H0V0z\" fill=\"none\"/>\n",
              "    <path d=\"M18.56 5.44l.94 2.06.94-2.06 2.06-.94-2.06-.94-.94-2.06-.94 2.06-2.06.94zm-11 1L8.5 8.5l.94-2.06 2.06-.94-2.06-.94L8.5 2.5l-.94 2.06-2.06.94zm10 10l.94 2.06.94-2.06 2.06-.94-2.06-.94-.94-2.06-.94 2.06-2.06.94z\"/><path d=\"M17.41 7.96l-1.37-1.37c-.4-.4-.92-.59-1.43-.59-.52 0-1.04.2-1.43.59L10.3 9.45l-7.72 7.72c-.78.78-.78 2.05 0 2.83L4 21.41c.39.39.9.59 1.41.59.51 0 1.02-.2 1.41-.59l7.78-7.78 2.81-2.81c.8-.78.8-2.07 0-2.86zM5.41 20L4 18.59l7.72-7.72 1.47 1.35L5.41 20z\"/>\n",
              "  </svg>\n",
              "      </button>\n",
              "      \n",
              "  <style>\n",
              "    .colab-df-container {\n",
              "      display:flex;\n",
              "      flex-wrap:wrap;\n",
              "      gap: 12px;\n",
              "    }\n",
              "\n",
              "    .colab-df-convert {\n",
              "      background-color: #E8F0FE;\n",
              "      border: none;\n",
              "      border-radius: 50%;\n",
              "      cursor: pointer;\n",
              "      display: none;\n",
              "      fill: #1967D2;\n",
              "      height: 32px;\n",
              "      padding: 0 0 0 0;\n",
              "      width: 32px;\n",
              "    }\n",
              "\n",
              "    .colab-df-convert:hover {\n",
              "      background-color: #E2EBFA;\n",
              "      box-shadow: 0px 1px 2px rgba(60, 64, 67, 0.3), 0px 1px 3px 1px rgba(60, 64, 67, 0.15);\n",
              "      fill: #174EA6;\n",
              "    }\n",
              "\n",
              "    [theme=dark] .colab-df-convert {\n",
              "      background-color: #3B4455;\n",
              "      fill: #D2E3FC;\n",
              "    }\n",
              "\n",
              "    [theme=dark] .colab-df-convert:hover {\n",
              "      background-color: #434B5C;\n",
              "      box-shadow: 0px 1px 3px 1px rgba(0, 0, 0, 0.15);\n",
              "      filter: drop-shadow(0px 1px 2px rgba(0, 0, 0, 0.3));\n",
              "      fill: #FFFFFF;\n",
              "    }\n",
              "  </style>\n",
              "\n",
              "      <script>\n",
              "        const buttonEl =\n",
              "          document.querySelector('#df-895b5f76-e86d-450c-8357-96121b16c715 button.colab-df-convert');\n",
              "        buttonEl.style.display =\n",
              "          google.colab.kernel.accessAllowed ? 'block' : 'none';\n",
              "\n",
              "        async function convertToInteractive(key) {\n",
              "          const element = document.querySelector('#df-895b5f76-e86d-450c-8357-96121b16c715');\n",
              "          const dataTable =\n",
              "            await google.colab.kernel.invokeFunction('convertToInteractive',\n",
              "                                                     [key], {});\n",
              "          if (!dataTable) return;\n",
              "\n",
              "          const docLinkHtml = 'Like what you see? Visit the ' +\n",
              "            '<a target=\"_blank\" href=https://colab.research.google.com/notebooks/data_table.ipynb>data table notebook</a>'\n",
              "            + ' to learn more about interactive tables.';\n",
              "          element.innerHTML = '';\n",
              "          dataTable['output_type'] = 'display_data';\n",
              "          await google.colab.output.renderOutput(dataTable, element);\n",
              "          const docLink = document.createElement('div');\n",
              "          docLink.innerHTML = docLinkHtml;\n",
              "          element.appendChild(docLink);\n",
              "        }\n",
              "      </script>\n",
              "    </div>\n",
              "  </div>\n",
              "  "
            ]
          },
          "metadata": {},
          "execution_count": 168
        }
      ]
    },
    {
      "cell_type": "code",
      "source": [
        "# split datasets into training and test subsets for both X and y using sklearn\n",
        "from sklearn.model_selection import train_test_split\n",
        "X_train,X_test,y_train,y_test=train_test_split(X,y,test_size=0.20, stratify=y,random_state=42)\n"
      ],
      "metadata": {
        "id": "erav2iBDjigw"
      },
      "execution_count": null,
      "outputs": []
    },
    {
      "cell_type": "code",
      "source": [
        "# Create a series of outcome variable only\n",
        "y = audit_data['class']\n",
        "y.head()"
      ],
      "metadata": {
        "id": "MwNU5wkGjilA",
        "colab": {
          "base_uri": "https://localhost:8080/"
        },
        "outputId": "b318d0e3-4ecc-49f3-8213-f7a059c2389c"
      },
      "execution_count": null,
      "outputs": [
        {
          "output_type": "execute_result",
          "data": {
            "text/plain": [
              "0    1\n",
              "1    0\n",
              "2    1\n",
              "3    0\n",
              "4    1\n",
              "Name: class, dtype: int64"
            ]
          },
          "metadata": {},
          "execution_count": 170
        }
      ]
    },
    {
      "cell_type": "code",
      "source": [
        "print(X_train.shape)\n",
        "print(X_test.shape)\n",
        "print(y_train.shape)\n",
        "print(y_test.shape)\n"
      ],
      "metadata": {
        "id": "tNDQTEn-jict",
        "colab": {
          "base_uri": "https://localhost:8080/"
        },
        "outputId": "0f093120-6f2b-4218-fe01-0f6e0a1481fd"
      },
      "execution_count": null,
      "outputs": [
        {
          "output_type": "stream",
          "name": "stdout",
          "text": [
            "(640, 20)\n",
            "(160, 20)\n",
            "(640,)\n",
            "(160,)\n"
          ]
        }
      ]
    },
    {
      "cell_type": "markdown",
      "source": [
        "# **Evaluate the model**"
      ],
      "metadata": {
        "id": "-kTgtSnlPKxz"
      }
    },
    {
      "cell_type": "markdown",
      "source": [
        "Logistic Regression"
      ],
      "metadata": {
        "id": "SfhAVOaKKX8l"
      }
    },
    {
      "cell_type": "code",
      "source": [
        "from sklearn.linear_model import LogisticRegression\n",
        "from sklearn import preprocessing\n",
        "\n",
        "#instantiate the model (using the defalut parameters)\n",
        "lr = LogisticRegression()\n"
      ],
      "metadata": {
        "id": "g19O6DdLKXRx"
      },
      "execution_count": null,
      "outputs": []
    },
    {
      "cell_type": "code",
      "source": [
        "#fit the model with data\n",
        "lr.fit(X_train,y_train)\n"
      ],
      "metadata": {
        "colab": {
          "base_uri": "https://localhost:8080/"
        },
        "id": "w9kTvj5lPYLZ",
        "outputId": "ec483d65-27e8-4815-f527-11d7c79a0477"
      },
      "execution_count": null,
      "outputs": [
        {
          "output_type": "stream",
          "name": "stderr",
          "text": [
            "/usr/local/lib/python3.7/dist-packages/sklearn/linear_model/_logistic.py:818: ConvergenceWarning: lbfgs failed to converge (status=1):\n",
            "STOP: TOTAL NO. of ITERATIONS REACHED LIMIT.\n",
            "\n",
            "Increase the number of iterations (max_iter) or scale the data as shown in:\n",
            "    https://scikit-learn.org/stable/modules/preprocessing.html\n",
            "Please also refer to the documentation for alternative solver options:\n",
            "    https://scikit-learn.org/stable/modules/linear_model.html#logistic-regression\n",
            "  extra_warning_msg=_LOGISTIC_SOLVER_CONVERGENCE_MSG,\n"
          ]
        },
        {
          "output_type": "execute_result",
          "data": {
            "text/plain": [
              "LogisticRegression()"
            ]
          },
          "metadata": {},
          "execution_count": 173
        }
      ]
    },
    {
      "cell_type": "code",
      "source": [
        "y_pred=lr.predict(X_test)"
      ],
      "metadata": {
        "id": "LV2NPyRSQD7w"
      },
      "execution_count": null,
      "outputs": []
    },
    {
      "cell_type": "code",
      "source": [
        "from sklearn import metrics\n",
        "cnf_matrix = metrics.confusion_matrix(y_test,y_pred)\n",
        "cnf_matrix\n"
      ],
      "metadata": {
        "colab": {
          "base_uri": "https://localhost:8080/"
        },
        "id": "-IlJBlAuKxdB",
        "outputId": "7532beaf-63cf-48c6-af4d-97b8c2e8930a"
      },
      "execution_count": null,
      "outputs": [
        {
          "output_type": "execute_result",
          "data": {
            "text/plain": [
              "array([[ 15,  33],\n",
              "       [  7, 105]])"
            ]
          },
          "metadata": {},
          "execution_count": 175
        }
      ]
    },
    {
      "cell_type": "code",
      "source": [
        "class_names = ['0','1'] #names of classes\n",
        "\n",
        "fig, ax = plt.subplots()\n",
        "tick_marks = np.arange(len(class_names))\n",
        "plt.xticks(tick_marks,class_names)\n",
        "plt.yticks(tick_marks,class_names)\n",
        "\n",
        "#create heatmap\n",
        "sns.heatmap(pd.DataFrame(cnf_matrix), annot=True,cmap=\"coolwarm\",fmt='g')\n",
        "ax.xaxis.set_label_position(\"top\")\n",
        "plt.tight_layout()\n",
        "plt.title('Confusion Matrix', y=1.1)\n",
        "plt.ylabel('Actual Label')\n",
        "plt.xlabel('Predicted Label')\n"
      ],
      "metadata": {
        "colab": {
          "base_uri": "https://localhost:8080/",
          "height": 346
        },
        "id": "3ZunoRSGLDJA",
        "outputId": "e3ae6236-4070-4c25-f005-3617b0fe5eae"
      },
      "execution_count": null,
      "outputs": [
        {
          "output_type": "execute_result",
          "data": {
            "text/plain": [
              "Text(0.5, 257.44, 'Predicted Label')"
            ]
          },
          "metadata": {},
          "execution_count": 176
        },
        {
          "output_type": "display_data",
          "data": {
            "text/plain": [
              "<Figure size 432x288 with 2 Axes>"
            ],
            "image/png": "[encoded data removed]"
          },
          "metadata": {}
        }
      ]
    },
    {
      "cell_type": "code",
      "source": [
        "print(\"Accuracy:\",metrics.accuracy_score(y_test.ravel(),y_pred))\n",
        "print(\"Precision:\",metrics.precision_score(y_test.ravel(),y_pred))\n",
        "print(\"Recall:\",metrics.recall_score(y_test.ravel(),y_pred))\n",
        "print(\"F1 Score:\",metrics.recall_score(y_test.ravel(),y_pred))"
      ],
      "metadata": {
        "colab": {
          "base_uri": "https://localhost:8080/"
        },
        "id": "ZboSklb7Ndwe",
        "outputId": "118a1e18-d2f1-45cb-acdc-77812c2dad6a"
      },
      "execution_count": null,
      "outputs": [
        {
          "output_type": "stream",
          "name": "stdout",
          "text": [
            "Accuracy: 0.75\n",
            "Precision: 0.7608695652173914\n",
            "Recall: 0.9375\n",
            "F1 Score: 0.9375\n"
          ]
        }
      ]
    },
    {
      "cell_type": "markdown",
      "source": [
        "Receiver Operating Characteristic -ROC Curve\n",
        "\n",
        "The receiver operating characteristic curve is a plot of the true positive rate against the false positive rate. Its shows the tradeoff between sensitivity and specificity."
      ],
      "metadata": {
        "id": "iROe5xBJBA8P"
      }
    },
    {
      "cell_type": "code",
      "source": [
        "y_pred_proba = lr.predict_proba(X_test)[::,1]\n",
        "fpr, tpr, _ = metrics.roc_curve(y_test, y_pred_proba)\n",
        "auc = metrics.roc_auc_score(y_test, y_pred_proba)\n",
        "plt.plot(fpr,tpr,label =\"data 1, auc =\"+ str(auc))\n",
        "plt.legend(loc=4)\n",
        "plt.show()"
      ],
      "metadata": {
        "id": "B2S2QeqkmvfK",
        "colab": {
          "base_uri": "https://localhost:8080/",
          "height": 282
        },
        "outputId": "16834de7-53d5-40b1-cf5f-3c17536be4ed"
      },
      "execution_count": null,
      "outputs": [
        {
          "output_type": "display_data",
          "data": {
            "text/plain": [
              "<Figure size 432x288 with 1 Axes>"
            ],
            "image/png": "[encoded data removed]"
          },
          "metadata": {}
        }
      ]
    },
    {
      "cell_type": "markdown",
      "source": [
        "The AUC score for the case is 0.76. AUC score 1 represents a perfect classifier, and __ represents a worthless classifier."
      ],
      "metadata": {
        "id": "Ef3Y50UhGyhO"
      }
    },
    {
      "cell_type": "code",
      "source": [
        "from sklearn.preprocessing import MinMaxScaler\n",
        "scaler = MinMaxScaler()\n",
        "X_train = scaler.fit_transform(X_train)\n",
        "X_test = scaler.transform(X_test)"
      ],
      "metadata": {
        "id": "I3Orh6Q7kJD4"
      },
      "execution_count": null,
      "outputs": []
    },
    {
      "cell_type": "markdown",
      "source": [
        "Naive Bayes"
      ],
      "metadata": {
        "id": "KbKXpIRGJMZf"
      }
    },
    {
      "cell_type": "code",
      "source": [
        "from sklearn.naive_bayes import GaussianNB\n",
        "\n",
        "#create a Gaussian Classifier\n",
        "nb = GaussianNB()\n",
        "\n",
        "#Train the model using the training sets\n",
        "nb.fit(X_train, y_train)\n",
        "y_pred=nb.predict(X_test) \n"
      ],
      "metadata": {
        "id": "chxlrWCfJJa9"
      },
      "execution_count": null,
      "outputs": []
    },
    {
      "cell_type": "code",
      "source": [
        "#import the metrics class\n",
        "from sklearn import metrics\n",
        "cnf_matrix = metrics.confusion_matrix(y_test, y_pred)\n",
        "cnf_matrix"
      ],
      "metadata": {
        "colab": {
          "base_uri": "https://localhost:8080/"
        },
        "id": "Xwyxs2wLJ-GE",
        "outputId": "72ca97da-a9a1-486c-f698-c8df940d159a"
      },
      "execution_count": null,
      "outputs": [
        {
          "output_type": "execute_result",
          "data": {
            "text/plain": [
              "array([[20, 28],\n",
              "       [21, 91]])"
            ]
          },
          "metadata": {},
          "execution_count": 181
        }
      ]
    },
    {
      "cell_type": "code",
      "source": [
        "print(\"Accuracy:\",metrics.accuracy_score(y_test,y_pred))\n",
        "print(\"Precision:\",metrics.precision_score(y_test,y_pred))\n",
        "print(\"Recall:\",metrics.recall_score(y_test,y_pred))\n",
        "print(\"F1 Score:\",metrics.accuracy_score(y_test,y_pred))\n"
      ],
      "metadata": {
        "colab": {
          "base_uri": "https://localhost:8080/"
        },
        "id": "mA_lSktMKaim",
        "outputId": "31da2136-33a6-4403-d6bc-c03238b50044"
      },
      "execution_count": null,
      "outputs": [
        {
          "output_type": "stream",
          "name": "stdout",
          "text": [
            "Accuracy: 0.69375\n",
            "Precision: 0.7647058823529411\n",
            "Recall: 0.8125\n",
            "F1 Score: 0.69375\n"
          ]
        }
      ]
    },
    {
      "cell_type": "code",
      "source": [
        "y_pred_proba = nb.predict_proba(X_test)[::,1]\n",
        "fpr, tpr, _ = metrics.roc_curve(y_test, y_pred_proba)\n",
        "auc = metrics.roc_auc_score(y_test, y_pred_proba)\n",
        "plt.plot(fpr,tpr,label =\"data 1, auc =\"+ str(auc))\n",
        "plt.legend(loc=4)\n",
        "plt.show()"
      ],
      "metadata": {
        "colab": {
          "base_uri": "https://localhost:8080/",
          "height": 282
        },
        "id": "jl46NxNLLrbJ",
        "outputId": "e7fcd859-0aa0-49fa-c25a-4a7e042aca62"
      },
      "execution_count": null,
      "outputs": [
        {
          "output_type": "display_data",
          "data": {
            "text/plain": [
              "<Figure size 432x288 with 1 Axes>"
            ],
            "image/png": "[encoded data removed]"
          },
          "metadata": {}
        }
      ]
    },
    {
      "cell_type": "markdown",
      "source": [
        "Random Forest"
      ],
      "metadata": {
        "id": "TRsBKeNlj_on"
      }
    },
    {
      "cell_type": "code",
      "source": [
        "#Import Random Forest Model\n",
        "from sklearn.ensemble import RandomForestClassifier\n",
        "\n",
        "#create a Gaussian Classifier\n",
        "rf = RandomForestClassifier(n_estimators=100)\n",
        "\n",
        "#Train the model using the training sets \n",
        "rf.fit(X_train, y_train)\n"
      ],
      "metadata": {
        "colab": {
          "base_uri": "https://localhost:8080/"
        },
        "id": "pZkp1i6mL_yx",
        "outputId": "40d25b26-17fb-40ed-e041-7cf410654299"
      },
      "execution_count": null,
      "outputs": [
        {
          "output_type": "execute_result",
          "data": {
            "text/plain": [
              "RandomForestClassifier()"
            ]
          },
          "metadata": {},
          "execution_count": 184
        }
      ]
    },
    {
      "cell_type": "code",
      "source": [
        "y_pred = rf.predict(X_test)\n"
      ],
      "metadata": {
        "id": "MOqCAsUnL_27"
      },
      "execution_count": null,
      "outputs": []
    },
    {
      "cell_type": "code",
      "source": [
        "cnf_matrix = metrics.confusion_matrix(y_test, y_pred)\n",
        "cnf_matrix"
      ],
      "metadata": {
        "colab": {
          "base_uri": "https://localhost:8080/"
        },
        "id": "MdAukc_ANcXv",
        "outputId": "e9642751-312d-49e7-a4cb-e86000fd550e"
      },
      "execution_count": null,
      "outputs": [
        {
          "output_type": "execute_result",
          "data": {
            "text/plain": [
              "array([[ 13,  35],\n",
              "       [  5, 107]])"
            ]
          },
          "metadata": {},
          "execution_count": 186
        }
      ]
    },
    {
      "cell_type": "code",
      "source": [
        "print(\"Accuracy:\",metrics.accuracy_score(y_test,y_pred))\n",
        "print(\"Precision:\",metrics.precision_score(y_test,y_pred))\n",
        "print(\"Recall:\",metrics.recall_score(y_test,y_pred))\n",
        "print(\"F1 Score:\",metrics.accuracy_score(y_test,y_pred))\n"
      ],
      "metadata": {
        "colab": {
          "base_uri": "https://localhost:8080/"
        },
        "id": "Yc_0KZfaNl0K",
        "outputId": "81f7de75-509b-4c1a-90d7-33cc3ccf7201"
      },
      "execution_count": null,
      "outputs": [
        {
          "output_type": "stream",
          "name": "stdout",
          "text": [
            "Accuracy: 0.75\n",
            "Precision: 0.7535211267605634\n",
            "Recall: 0.9553571428571429\n",
            "F1 Score: 0.75\n"
          ]
        }
      ]
    },
    {
      "cell_type": "markdown",
      "source": [
        "SVM"
      ],
      "metadata": {
        "id": "OZviYEl6OGiW"
      }
    },
    {
      "cell_type": "code",
      "source": [
        "from sklearn.svm import SVC\n",
        "from sklearn.metrics import classification_report, confusion_matrix\n",
        "# train the model\n",
        "svc_model = SVC()\n",
        "svc_model.fit(X_train, y_train)"
      ],
      "metadata": {
        "id": "xC4ZBlv5j1NB",
        "colab": {
          "base_uri": "https://localhost:8080/"
        },
        "outputId": "c4fc06c8-a1ba-4920-bd5a-eac5b1243e45"
      },
      "execution_count": null,
      "outputs": [
        {
          "output_type": "execute_result",
          "data": {
            "text/plain": [
              "SVC()"
            ]
          },
          "metadata": {},
          "execution_count": 188
        }
      ]
    },
    {
      "cell_type": "code",
      "source": [
        "y_pred = svc_model.fit(X_train, y_train).predict(X_test)\n"
      ],
      "metadata": {
        "id": "Zv8OozyGkVZK"
      },
      "execution_count": null,
      "outputs": []
    },
    {
      "cell_type": "code",
      "source": [
        "cm = confusion_matrix(y_test, y_pred)\n",
        "sns.heatmap(cm, annot=True)"
      ],
      "metadata": {
        "id": "l0-_SrLHkasn",
        "colab": {
          "base_uri": "https://localhost:8080/",
          "height": 300
        },
        "outputId": "6a6d0d99-3e6e-41a8-e459-d4f8a7f32174"
      },
      "execution_count": null,
      "outputs": [
        {
          "output_type": "execute_result",
          "data": {
            "text/plain": [
              "<matplotlib.axes._subplots.AxesSubplot at 0x7f251a586c50>"
            ]
          },
          "metadata": {},
          "execution_count": 190
        },
        {
          "output_type": "display_data",
          "data": {
            "text/plain": [
              "<Figure size 432x288 with 2 Axes>"
            ],
            "image/png": "[encoded data removed]"
          },
          "metadata": {}
        }
      ]
    },
    {
      "cell_type": "code",
      "source": [
        "print(classification_report(y_test, y_pred))\n"
      ],
      "metadata": {
        "id": "fD0nV8gxkhkk",
        "colab": {
          "base_uri": "https://localhost:8080/"
        },
        "outputId": "910c18c7-a162-469b-c891-5e8daa737b97"
      },
      "execution_count": null,
      "outputs": [
        {
          "output_type": "stream",
          "name": "stdout",
          "text": [
            "              precision    recall  f1-score   support\n",
            "\n",
            "           0       0.73      0.23      0.35        48\n",
            "           1       0.74      0.96      0.84       112\n",
            "\n",
            "    accuracy                           0.74       160\n",
            "   macro avg       0.74      0.60      0.59       160\n",
            "weighted avg       0.74      0.74      0.69       160\n",
            "\n"
          ]
        }
      ]
    },
    {
      "cell_type": "code",
      "source": [
        "from sklearn.metrics import accuracy_score\n",
        "accuracy_score(y_test, y_pred)"
      ],
      "metadata": {
        "id": "qW6y5L2kkpQJ",
        "colab": {
          "base_uri": "https://localhost:8080/"
        },
        "outputId": "8202e2ca-1093-427c-9f11-51b8738cb11e"
      },
      "execution_count": null,
      "outputs": [
        {
          "output_type": "execute_result",
          "data": {
            "text/plain": [
              "0.74375"
            ]
          },
          "metadata": {},
          "execution_count": 192
        }
      ]
    },
    {
      "cell_type": "markdown",
      "source": [
        "# **Improving the model**\n"
      ],
      "metadata": {
        "id": "5A5IODAYkz5R"
      }
    },
    {
      "cell_type": "code",
      "source": [
        "min_train = X_train.min()\n",
        "min_train"
      ],
      "metadata": {
        "id": "BFQUX9f0kvz3",
        "colab": {
          "base_uri": "https://localhost:8080/"
        },
        "outputId": "5a48649e-777c-4d91-c06d-07d5cd33c3c7"
      },
      "execution_count": null,
      "outputs": [
        {
          "output_type": "execute_result",
          "data": {
            "text/plain": [
              "0.0"
            ]
          },
          "metadata": {},
          "execution_count": 193
        }
      ]
    },
    {
      "cell_type": "code",
      "source": [
        "range_train = (X_train - min_train).max()\n",
        "range_train"
      ],
      "metadata": {
        "id": "fZAUoHiYk9wF",
        "colab": {
          "base_uri": "https://localhost:8080/"
        },
        "outputId": "c8ed69d5-34d8-4b6c-e79e-311f52e0b3c4"
      },
      "execution_count": null,
      "outputs": [
        {
          "output_type": "execute_result",
          "data": {
            "text/plain": [
              "1.0"
            ]
          },
          "metadata": {},
          "execution_count": 194
        }
      ]
    },
    {
      "cell_type": "code",
      "source": [
        "X_train_scaled = (X_train - min_train)/range_train\n",
        "X_train_scaled"
      ],
      "metadata": {
        "id": "P9iZzU3flDt9",
        "colab": {
          "base_uri": "https://localhost:8080/"
        },
        "outputId": "af0aeea3-c036-4223-8c99-ac3ed6b9be0e"
      },
      "execution_count": null,
      "outputs": [
        {
          "output_type": "execute_result",
          "data": {
            "text/plain": [
              "array([[0.        , 0.14285714, 0.75      , ..., 0.        , 0.        ,\n",
              "        1.        ],\n",
              "       [1.        , 0.03571429, 0.75      , ..., 0.        , 1.        ,\n",
              "        1.        ],\n",
              "       [1.        , 0.10714286, 0.75      , ..., 1.        , 0.        ,\n",
              "        0.        ],\n",
              "       ...,\n",
              "       [0.        , 0.14285714, 0.75      , ..., 0.        , 0.        ,\n",
              "        1.        ],\n",
              "       [0.33333333, 0.35714286, 0.5       , ..., 1.        , 0.        ,\n",
              "        1.        ],\n",
              "       [0.33333333, 0.78571429, 1.        , ..., 1.        , 0.        ,\n",
              "        1.        ]])"
            ]
          },
          "metadata": {},
          "execution_count": 195
        }
      ]
    },
    {
      "cell_type": "code",
      "source": [
        "min_test = X_test.min()\n",
        "range_test = (X_test - min_test).max()\n",
        "X_test_scaled = (X_test - min_test)/range_test"
      ],
      "metadata": {
        "id": "X9dr70L4lZM2"
      },
      "execution_count": null,
      "outputs": []
    },
    {
      "cell_type": "code",
      "source": [
        "clf_model1 = RandomForestClassifier(n_estimators=100)\n",
        "clf_model1.fit(X_train_scaled, y_train)"
      ],
      "metadata": {
        "id": "N7LrHcEslZH8",
        "colab": {
          "base_uri": "https://localhost:8080/"
        },
        "outputId": "a10d761a-6094-43d4-b0e6-cf5dbddf0ba1"
      },
      "execution_count": null,
      "outputs": [
        {
          "output_type": "execute_result",
          "data": {
            "text/plain": [
              "RandomForestClassifier()"
            ]
          },
          "metadata": {},
          "execution_count": 197
        }
      ]
    },
    {
      "cell_type": "code",
      "source": [
        "y_predict = clf_model1.predict(X_test_scaled)\n",
        "cm1 = confusion_matrix(y_test, y_predict)\n",
        "\n",
        "sns.heatmap(cm1,annot=True,fmt=\"d\")"
      ],
      "metadata": {
        "id": "GvAbxhTrlg5G",
        "colab": {
          "base_uri": "https://localhost:8080/",
          "height": 300
        },
        "outputId": "2a290bb1-5bf7-4ba2-f32d-82af2ac2383d"
      },
      "execution_count": null,
      "outputs": [
        {
          "output_type": "execute_result",
          "data": {
            "text/plain": [
              "<matplotlib.axes._subplots.AxesSubplot at 0x7f251a507e90>"
            ]
          },
          "metadata": {},
          "execution_count": 198
        },
        {
          "output_type": "display_data",
          "data": {
            "text/plain": [
              "<Figure size 432x288 with 2 Axes>"
            ],
            "image/png": "[encoded data removed]"
          },
          "metadata": {}
        }
      ]
    },
    {
      "cell_type": "code",
      "source": [
        "accuracy_score(y_test, y_predict)"
      ],
      "metadata": {
        "id": "lhYapU0hlZDl",
        "colab": {
          "base_uri": "https://localhost:8080/"
        },
        "outputId": "66f26701-8ca6-400f-d3df-2c01f6fbf454"
      },
      "execution_count": null,
      "outputs": [
        {
          "output_type": "execute_result",
          "data": {
            "text/plain": [
              "0.73125"
            ]
          },
          "metadata": {},
          "execution_count": 199
        }
      ]
    }
  ]
}